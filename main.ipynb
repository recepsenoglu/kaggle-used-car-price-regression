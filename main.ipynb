{
 "cells": [
  {
   "cell_type": "code",
   "execution_count": 266,
   "metadata": {},
   "outputs": [],
   "source": [
    "import pandas as pd\n",
    "import numpy as np\n",
    "import matplotlib.pyplot as plt\n",
    "import seaborn as sns\n",
    "\n",
    "from datetime import datetime\n",
    "\n",
    "from sklearn.model_selection import train_test_split\n",
    "from sklearn.metrics import mean_squared_error\n",
    "\n",
    "import warnings\n",
    "\n",
    "pd.set_option('display.max_columns', None)\n",
    "pd.set_option('display.max_rows', None)\n",
    "pd.set_option('display.width', 500)\n",
    "pd.set_option('display.float_format', lambda x: '%.3f' % x)\n",
    "warnings.filterwarnings('ignore')\n"
   ]
  },
  {
   "cell_type": "code",
   "execution_count": 267,
   "metadata": {},
   "outputs": [],
   "source": [
    "df_train = pd.read_csv('data/train.csv')\n",
    "df_test = pd.read_csv('data/test.csv')\n",
    "df_submission = pd.read_csv('data/sample_submission.csv')"
   ]
  },
  {
   "cell_type": "code",
   "execution_count": 268,
   "metadata": {},
   "outputs": [
    {
     "name": "stdout",
     "output_type": "stream",
     "text": [
      "The Train dataset has 188533 rows and 13 columns\n",
      "The Test dataset has 125690 rows and 12 columns\n"
     ]
    }
   ],
   "source": [
    "print(f'The Train dataset has {df_train.shape[0]} rows and {df_train.shape[1]} columns')\n",
    "print(f'The Test dataset has {df_test.shape[0]} rows and {df_test.shape[1]} columns')"
   ]
  },
  {
   "cell_type": "code",
   "execution_count": 269,
   "metadata": {},
   "outputs": [
    {
     "data": {
      "text/html": [
       "<div>\n",
       "<style scoped>\n",
       "    .dataframe tbody tr th:only-of-type {\n",
       "        vertical-align: middle;\n",
       "    }\n",
       "\n",
       "    .dataframe tbody tr th {\n",
       "        vertical-align: top;\n",
       "    }\n",
       "\n",
       "    .dataframe thead th {\n",
       "        text-align: right;\n",
       "    }\n",
       "</style>\n",
       "<table border=\"1\" class=\"dataframe\">\n",
       "  <thead>\n",
       "    <tr style=\"text-align: right;\">\n",
       "      <th></th>\n",
       "      <th>id</th>\n",
       "      <th>brand</th>\n",
       "      <th>model</th>\n",
       "      <th>model_year</th>\n",
       "      <th>milage</th>\n",
       "      <th>fuel_type</th>\n",
       "      <th>engine</th>\n",
       "      <th>transmission</th>\n",
       "      <th>ext_col</th>\n",
       "      <th>int_col</th>\n",
       "      <th>accident</th>\n",
       "      <th>clean_title</th>\n",
       "      <th>price</th>\n",
       "    </tr>\n",
       "  </thead>\n",
       "  <tbody>\n",
       "    <tr>\n",
       "      <th>0</th>\n",
       "      <td>0</td>\n",
       "      <td>MINI</td>\n",
       "      <td>Cooper S Base</td>\n",
       "      <td>2007</td>\n",
       "      <td>213000</td>\n",
       "      <td>Gasoline</td>\n",
       "      <td>172.0HP 1.6L 4 Cylinder Engine Gasoline Fuel</td>\n",
       "      <td>A/T</td>\n",
       "      <td>Yellow</td>\n",
       "      <td>Gray</td>\n",
       "      <td>None reported</td>\n",
       "      <td>Yes</td>\n",
       "      <td>4200</td>\n",
       "    </tr>\n",
       "    <tr>\n",
       "      <th>1</th>\n",
       "      <td>1</td>\n",
       "      <td>Lincoln</td>\n",
       "      <td>LS V8</td>\n",
       "      <td>2002</td>\n",
       "      <td>143250</td>\n",
       "      <td>Gasoline</td>\n",
       "      <td>252.0HP 3.9L 8 Cylinder Engine Gasoline Fuel</td>\n",
       "      <td>A/T</td>\n",
       "      <td>Silver</td>\n",
       "      <td>Beige</td>\n",
       "      <td>At least 1 accident or damage reported</td>\n",
       "      <td>Yes</td>\n",
       "      <td>4999</td>\n",
       "    </tr>\n",
       "    <tr>\n",
       "      <th>2</th>\n",
       "      <td>2</td>\n",
       "      <td>Chevrolet</td>\n",
       "      <td>Silverado 2500 LT</td>\n",
       "      <td>2002</td>\n",
       "      <td>136731</td>\n",
       "      <td>E85 Flex Fuel</td>\n",
       "      <td>320.0HP 5.3L 8 Cylinder Engine Flex Fuel Capab...</td>\n",
       "      <td>A/T</td>\n",
       "      <td>Blue</td>\n",
       "      <td>Gray</td>\n",
       "      <td>None reported</td>\n",
       "      <td>Yes</td>\n",
       "      <td>13900</td>\n",
       "    </tr>\n",
       "    <tr>\n",
       "      <th>3</th>\n",
       "      <td>3</td>\n",
       "      <td>Genesis</td>\n",
       "      <td>G90 5.0 Ultimate</td>\n",
       "      <td>2017</td>\n",
       "      <td>19500</td>\n",
       "      <td>Gasoline</td>\n",
       "      <td>420.0HP 5.0L 8 Cylinder Engine Gasoline Fuel</td>\n",
       "      <td>Transmission w/Dual Shift Mode</td>\n",
       "      <td>Black</td>\n",
       "      <td>Black</td>\n",
       "      <td>None reported</td>\n",
       "      <td>Yes</td>\n",
       "      <td>45000</td>\n",
       "    </tr>\n",
       "    <tr>\n",
       "      <th>4</th>\n",
       "      <td>4</td>\n",
       "      <td>Mercedes-Benz</td>\n",
       "      <td>Metris Base</td>\n",
       "      <td>2021</td>\n",
       "      <td>7388</td>\n",
       "      <td>Gasoline</td>\n",
       "      <td>208.0HP 2.0L 4 Cylinder Engine Gasoline Fuel</td>\n",
       "      <td>7-Speed A/T</td>\n",
       "      <td>Black</td>\n",
       "      <td>Beige</td>\n",
       "      <td>None reported</td>\n",
       "      <td>Yes</td>\n",
       "      <td>97500</td>\n",
       "    </tr>\n",
       "  </tbody>\n",
       "</table>\n",
       "</div>"
      ],
      "text/plain": [
       "   id          brand              model  model_year  milage      fuel_type                                             engine                    transmission ext_col int_col                                accident clean_title  price\n",
       "0   0           MINI      Cooper S Base        2007  213000       Gasoline       172.0HP 1.6L 4 Cylinder Engine Gasoline Fuel                             A/T  Yellow    Gray                           None reported         Yes   4200\n",
       "1   1        Lincoln              LS V8        2002  143250       Gasoline       252.0HP 3.9L 8 Cylinder Engine Gasoline Fuel                             A/T  Silver   Beige  At least 1 accident or damage reported         Yes   4999\n",
       "2   2      Chevrolet  Silverado 2500 LT        2002  136731  E85 Flex Fuel  320.0HP 5.3L 8 Cylinder Engine Flex Fuel Capab...                             A/T    Blue    Gray                           None reported         Yes  13900\n",
       "3   3        Genesis   G90 5.0 Ultimate        2017   19500       Gasoline       420.0HP 5.0L 8 Cylinder Engine Gasoline Fuel  Transmission w/Dual Shift Mode   Black   Black                           None reported         Yes  45000\n",
       "4   4  Mercedes-Benz        Metris Base        2021    7388       Gasoline       208.0HP 2.0L 4 Cylinder Engine Gasoline Fuel                     7-Speed A/T   Black   Beige                           None reported         Yes  97500"
      ]
     },
     "execution_count": 269,
     "metadata": {},
     "output_type": "execute_result"
    }
   ],
   "source": [
    "df_train.head()"
   ]
  },
  {
   "cell_type": "code",
   "execution_count": 270,
   "metadata": {},
   "outputs": [
    {
     "name": "stdout",
     "output_type": "stream",
     "text": [
      "<class 'pandas.core.frame.DataFrame'>\n",
      "RangeIndex: 188533 entries, 0 to 188532\n",
      "Data columns (total 13 columns):\n",
      " #   Column        Non-Null Count   Dtype \n",
      "---  ------        --------------   ----- \n",
      " 0   id            188533 non-null  int64 \n",
      " 1   brand         188533 non-null  object\n",
      " 2   model         188533 non-null  object\n",
      " 3   model_year    188533 non-null  int64 \n",
      " 4   milage        188533 non-null  int64 \n",
      " 5   fuel_type     183450 non-null  object\n",
      " 6   engine        188533 non-null  object\n",
      " 7   transmission  188533 non-null  object\n",
      " 8   ext_col       188533 non-null  object\n",
      " 9   int_col       188533 non-null  object\n",
      " 10  accident      186081 non-null  object\n",
      " 11  clean_title   167114 non-null  object\n",
      " 12  price         188533 non-null  int64 \n",
      "dtypes: int64(4), object(9)\n",
      "memory usage: 18.7+ MB\n"
     ]
    }
   ],
   "source": [
    "df_train.info()"
   ]
  },
  {
   "cell_type": "code",
   "execution_count": 271,
   "metadata": {},
   "outputs": [],
   "source": [
    "df = pd.concat([df_train, df_test], axis=0)"
   ]
  },
  {
   "cell_type": "code",
   "execution_count": 272,
   "metadata": {},
   "outputs": [],
   "source": [
    "df.drop(columns=['id'], inplace=True)"
   ]
  },
  {
   "cell_type": "markdown",
   "metadata": {},
   "source": [
    "## Milage"
   ]
  },
  {
   "cell_type": "code",
   "execution_count": 273,
   "metadata": {},
   "outputs": [
    {
     "data": {
      "text/plain": [
       "0"
      ]
     },
     "execution_count": 273,
     "metadata": {},
     "output_type": "execute_result"
    }
   ],
   "source": [
    "df.milage.isna().sum()"
   ]
  },
  {
   "cell_type": "code",
   "execution_count": 274,
   "metadata": {},
   "outputs": [
    {
     "data": {
      "image/png": "[encoded data removed]",
      "text/plain": [
       "<Figure size 640x480 with 1 Axes>"
      ]
     },
     "metadata": {},
     "output_type": "display_data"
    }
   ],
   "source": [
    "import matplotlib.pyplot as plt\n",
    "\n",
    "# Plot the distribution of mileage\n",
    "plt.hist(df['milage'], bins=20)\n",
    "plt.title('Mileage Distribution')\n",
    "plt.xlabel('Mileage')\n",
    "plt.ylabel('Frequency')\n",
    "plt.show()"
   ]
  },
  {
   "cell_type": "markdown",
   "metadata": {},
   "source": [
    "### Normalizing Milage Data"
   ]
  },
  {
   "cell_type": "code",
   "execution_count": 275,
   "metadata": {},
   "outputs": [
    {
     "name": "stdout",
     "output_type": "stream",
     "text": [
      "   milage  milage_normalized\n",
      "0  213000              0.526\n",
      "1  143250              0.354\n",
      "2  136731              0.337\n",
      "3   19500              0.048\n",
      "4    7388              0.018\n"
     ]
    }
   ],
   "source": [
    "from sklearn.preprocessing import MinMaxScaler\n",
    "\n",
    "# Assume df is your DataFrame and 'milage' is the column you want to normalize\n",
    "scaler = MinMaxScaler()\n",
    "\n",
    "# Reshape the data if you are working with a single column\n",
    "df['milage_normalized'] = scaler.fit_transform(df[['milage']])\n",
    "\n",
    "# Display the first few rows to check the results\n",
    "print(df[['milage', 'milage_normalized']].head())"
   ]
  },
  {
   "cell_type": "markdown",
   "metadata": {},
   "source": [
    "## Dealing with fuel type and engine"
   ]
  },
  {
   "cell_type": "code",
   "execution_count": 276,
   "metadata": {},
   "outputs": [
    {
     "data": {
      "text/plain": [
       "8466"
      ]
     },
     "execution_count": 276,
     "metadata": {},
     "output_type": "execute_result"
    }
   ],
   "source": [
    "df.fuel_type.isna().sum()"
   ]
  },
  {
   "cell_type": "code",
   "execution_count": 277,
   "metadata": {},
   "outputs": [
    {
     "data": {
      "text/plain": [
       "fuel_type\n",
       "Gasoline          276473\n",
       "Hybrid             11508\n",
       "E85 Flex Fuel       8929\n",
       "Diesel              6641\n",
       "–                   1319\n",
       "Plug-In Hybrid       858\n",
       "not supported         29\n",
       "Name: count, dtype: int64"
      ]
     },
     "execution_count": 277,
     "metadata": {},
     "output_type": "execute_result"
    }
   ],
   "source": [
    "df.fuel_type.value_counts()"
   ]
  },
  {
   "cell_type": "code",
   "execution_count": 278,
   "metadata": {},
   "outputs": [
    {
     "data": {
      "text/plain": [
       "0"
      ]
     },
     "execution_count": 278,
     "metadata": {},
     "output_type": "execute_result"
    }
   ],
   "source": [
    "df.engine.isna().sum()"
   ]
  },
  {
   "cell_type": "code",
   "execution_count": 279,
   "metadata": {},
   "outputs": [
    {
     "data": {
      "text/plain": [
       "engine\n",
       "355.0HP 5.3L 8 Cylinder Engine Gasoline Fuel     5651\n",
       "240.0HP 2.0L 4 Cylinder Engine Gasoline Fuel     4868\n",
       "420.0HP 6.2L 8 Cylinder Engine Gasoline Fuel     4694\n",
       "2.0L I4 16V GDI DOHC Turbo                       4513\n",
       "375.0HP 3.5L V6 Cylinder Engine Gasoline Fuel    4090\n",
       "Name: count, dtype: int64"
      ]
     },
     "execution_count": 279,
     "metadata": {},
     "output_type": "execute_result"
    }
   ],
   "source": [
    "df.engine.value_counts().sort_values(ascending=False).head(5)"
   ]
  },
  {
   "cell_type": "markdown",
   "metadata": {},
   "source": [
    "### Extracting Horsepower, Engine Size, and Cylinder Count"
   ]
  },
  {
   "cell_type": "code",
   "execution_count": 280,
   "metadata": {},
   "outputs": [],
   "source": [
    "import re\n",
    "\n",
    "pattern_1 = r'(?:(\\d{1,3}\\.\\d{1,3})HP)?\\s*(\\d{1,2}(?:\\.\\d{1,2})?)?\\s*(?:L|\\s*Liter)?\\s*(?:[A-Za-z\\s-]*)?(\\d+)?\\s*(?:V|I|Straight)?\\s*(?:Cylinder)?'\n",
    "\n",
    "# Apply regex for horsepower, engine size, and cylinder count\n",
    "df[['horsepower', 'engine_size', 'cylinder_count']] = df['engine'].str.extract(pattern_1)\n",
    "\n",
    "# Convert numeric fields to appropriate data types\n",
    "df['horsepower'] = pd.to_numeric(df['horsepower'], errors='coerce')\n",
    "df['engine_size'] = pd.to_numeric(df['engine_size'], errors='coerce')\n",
    "df['cylinder_count'] = pd.to_numeric(df['cylinder_count'], errors='coerce')"
   ]
  },
  {
   "cell_type": "code",
   "execution_count": 281,
   "metadata": {},
   "outputs": [
    {
     "name": "stdout",
     "output_type": "stream",
     "text": [
      "Horsepower NaN Count:  55502\n",
      "Engine Size NaN Count:  11113\n",
      "Cylinder Count NaN Count:  23427\n"
     ]
    }
   ],
   "source": [
    "print(\"Horsepower NaN Count: \", df.horsepower.isna().sum())\n",
    "print(\"Engine Size NaN Count: \", df.engine_size.isna().sum())\n",
    "print(\"Cylinder Count NaN Count: \", df.cylinder_count.isna().sum())"
   ]
  },
  {
   "cell_type": "markdown",
   "metadata": {},
   "source": [
    "### Extracting Fuel Type"
   ]
  },
  {
   "cell_type": "code",
   "execution_count": 301,
   "metadata": {},
   "outputs": [
    {
     "name": "stdout",
     "output_type": "stream",
     "text": [
      "engine_fuel_type\n",
      "Gasoline                233024\n",
      "NaN                      52561\n",
      "Flex Fuel                 8551\n",
      "Electric Motor            8230\n",
      "Diesel                    6889\n",
      "Gas/Electric Hybrid       2565\n",
      "Plug-In Electric/Gas       893\n",
      "Electric                   826\n",
      "Hybrid                     684\n",
      "Name: count, dtype: int64\n"
     ]
    }
   ],
   "source": [
    "# Regex pattern for fuel type\n",
    "pattern_2 = r'(Electric Motor|Electric Fuel System|Electric|Gasoline|Diesel|Flex Fuel|Plug-In Electric/Gas|Plug-In Electric|Plug-In Hybrid|Hybrid.*|Gas/Electric Hybrid)'\n",
    "\n",
    "# Apply regex for fuel type\n",
    "df['engine_fuel_type'] = df['engine'].str.extract(pattern_2)\n",
    "\n",
    "# Check the result\n",
    "print(df['engine_fuel_type'].value_counts(dropna=False))"
   ]
  },
  {
   "cell_type": "code",
   "execution_count": 305,
   "metadata": {},
   "outputs": [
    {
     "data": {
      "text/plain": [
       "engine_fuel_type\n",
       "Gasoline          233024\n",
       "Electric            9056\n",
       "Flex                8551\n",
       "Diesel              6889\n",
       "Hybrid              3249\n",
       "Plug-In Hybrid       893\n",
       "Name: count, dtype: int64"
      ]
     },
     "execution_count": 305,
     "metadata": {},
     "output_type": "execute_result"
    }
   ],
   "source": [
    "df['engine_fuel_type'] = df['engine_fuel_type'].replace({\n",
    "    'Electric Motor': 'Electric',\n",
    "    'Plug-In Electric': 'Electric',\n",
    "    'Gas/Electric Hybrid': 'Hybrid',\n",
    "    'Plug-In Electric/Gas': 'Plug-In Hybrid',\n",
    "    'Flex Fuel': 'Flex',\n",
    "})\n",
    "df.engine_fuel_type.value_counts()"
   ]
  },
  {
   "cell_type": "code",
   "execution_count": 304,
   "metadata": {},
   "outputs": [
    {
     "data": {
      "text/plain": [
       "fuel_type\n",
       "Gasoline          276473\n",
       "Hybrid             11508\n",
       "E85 Flex Fuel       8929\n",
       "Diesel              6641\n",
       "–                   1319\n",
       "Plug-In Hybrid       858\n",
       "not supported         29\n",
       "Name: count, dtype: int64"
      ]
     },
     "execution_count": 304,
     "metadata": {},
     "output_type": "execute_result"
    }
   ],
   "source": [
    "df.fuel_type.value_counts()"
   ]
  },
  {
   "cell_type": "code",
   "execution_count": 308,
   "metadata": {},
   "outputs": [
    {
     "data": {
      "text/plain": [
       "fuel_type\n",
       "Gasoline          276473\n",
       "Hybrid             11508\n",
       "NaN                 9814\n",
       "Flex                8929\n",
       "Diesel              6641\n",
       "Plug-In Hybrid       858\n",
       "Name: count, dtype: int64"
      ]
     },
     "execution_count": 308,
     "metadata": {},
     "output_type": "execute_result"
    }
   ],
   "source": [
    "df['fuel_type'] = df['fuel_type'].replace({\n",
    "    'E85 Flex Fuel': 'Flex',\n",
    "    'not supported': np.nan,\n",
    "    '–': np.nan\n",
    "})\n",
    "df.fuel_type.value_counts(dropna=False)"
   ]
  },
  {
   "cell_type": "markdown",
   "metadata": {},
   "source": [
    "### Filling NaN values in fuel_type with engine_fuel_type"
   ]
  },
  {
   "cell_type": "code",
   "execution_count": 309,
   "metadata": {},
   "outputs": [
    {
     "data": {
      "text/plain": [
       "fuel_type\n",
       "Gasoline          276587\n",
       "Hybrid             11512\n",
       "Flex                8932\n",
       "Electric            8099\n",
       "Diesel              6646\n",
       "NaN                 1588\n",
       "Plug-In Hybrid       859\n",
       "Name: count, dtype: int64"
      ]
     },
     "execution_count": 309,
     "metadata": {},
     "output_type": "execute_result"
    }
   ],
   "source": [
    "df.loc[df.fuel_type.isna(), 'fuel_type'] = df.loc[df.fuel_type.isna(), 'engine_fuel_type']\n",
    "df.fuel_type.value_counts(dropna=False)"
   ]
  },
  {
   "cell_type": "markdown",
   "metadata": {},
   "source": [
    "## Cleaning other columns"
   ]
  },
  {
   "cell_type": "code",
   "execution_count": 313,
   "metadata": {},
   "outputs": [
    {
     "data": {
      "text/plain": [
       "ext_col\n",
       "Black                                      81028\n",
       "White                                      73040\n",
       "Gray                                       42193\n",
       "Silver                                     28343\n",
       "Blue                                       24272\n",
       "Red                                        16548\n",
       "Green                                       4556\n",
       "Gold                                        2838\n",
       "Brown                                       1920\n",
       "Orange                                      1896\n",
       "Beige                                       1820\n",
       "Yellow                                      1603\n",
       "Bright White Clearcoat                      1263\n",
       "Diamond Black                               1170\n",
       "Agate Black Metallic                        1056\n",
       "Summit White                                 852\n",
       "Silver Ice Metallic                          738\n",
       "Mythos Black Metallic                        697\n",
       "Midnight Black Metallic                      641\n",
       "Granite Crystal Clearcoat Metallic           602\n",
       "–                                            589\n",
       "Purple                                       577\n",
       "Oxford White                                 514\n",
       "Ebony Twilight Metallic                      511\n",
       "Santorini Black Metallic                     504\n",
       "Black Clearcoat                              495\n",
       "Alpine White                                 493\n",
       "Obsidian Black Metallic                      452\n",
       "designo Diamond White Metallic               365\n",
       "Snowflake White Pearl                        349\n",
       "Firecracker Red Clearcoat                    346\n",
       "Soul Red Crystal Metallic                    339\n",
       "Daytona Gray Pearl Effect                    339\n",
       "Delmonico Red Pearlcoat                      332\n",
       "Glacial White Pearl                          327\n",
       "Shadow Gray Metallic                         321\n",
       "Atomic Silver                                312\n",
       "Fuji White                                   307\n",
       "Black Sapphire Metallic                      290\n",
       "Velvet Red Pearlcoat                         285\n",
       "Satin Steel Metallic                         257\n",
       "Magnetic Metallic                            253\n",
       "Rosso Mars Metallic                          247\n",
       "Santorin Black                               247\n",
       "Metallic                                     243\n",
       "Cajun Red Tintcoat                           226\n",
       "Lunar Silver Metallic                        225\n",
       "Black Raven                                  209\n",
       "Blu                                          203\n",
       "Brilliant Silver Metallic                    203\n",
       "Ebony Black                                  196\n",
       "Daytona Gray Pearl Effect w/ Black Roof      192\n",
       "Antimatter Blue Metallic                     192\n",
       "Dark Matter Metallic                         191\n",
       "Jet Black Mica                               184\n",
       "Caviar                                       183\n",
       "Daytona Gray                                 182\n",
       "Firenze Red                                  175\n",
       "Ultra White                                  170\n",
       "Snow White Pearl                             170\n",
       "Python Green                                 167\n",
       "Deep Black Pearl Effect                      164\n",
       "Lunar Blue Metallic                          162\n",
       "Iconic Silver Metallic                       159\n",
       "Billet Silver Metallic Clearcoat             157\n",
       "Alfa White                                   156\n",
       "Ruby Flare Pearl                             155\n",
       "Platinum White Pearl                         155\n",
       "Mythos Black                                 155\n",
       "Crystal Black Silica                         152\n",
       "Dark Moss                                    151\n",
       "Nebula Gray Pearl                            151\n",
       "designo Diamond White Bright                 151\n",
       "Phytonic Blue Metallic                       150\n",
       "Lizard Green                                 148\n",
       "Majestic Black Pearl                         144\n",
       "Silver Zynith                                143\n",
       "Beluga Black                                 141\n",
       "Hyper Red                                    125\n",
       "Flame Red Clearcoat                          123\n",
       "Firenze Red Metallic                         121\n",
       "Mosaic Black Metallic                        121\n",
       "Titanium Silver                              118\n",
       "Eminent White Pearl                          117\n",
       "White Frost Tri-Coat                         117\n",
       "Iridescent Pearl Tricoat                     117\n",
       "Bianco Icarus Metallic                       116\n",
       "Barcelona Red                                112\n",
       "Onyx Black                                   112\n",
       "Midnight Black                               111\n",
       "Magnetic Black                               111\n",
       "Sonic Silver Metallic                        110\n",
       "Imperial Blue Metallic                       108\n",
       "Eiger Grey                                   108\n",
       "Black Obsidian                               107\n",
       "Rapid Red Metallic Tinted Clearcoat          106\n",
       "Wind Chill Pearl                             105\n",
       "Tango Red Metallic                            99\n",
       "Dark Moon Blue Metallic                       99\n",
       "Chalk                                         97\n",
       "Anthracite Blue Metallic                      95\n",
       "Magnetite Black Metallic                      94\n",
       "Patriot Blue Pearlcoat                        94\n",
       "Kemora Gray Metallic                          93\n",
       "Magnetic Gray Clearcoat                       93\n",
       "Glacier White                                 92\n",
       "Polymetal Gray Metallic                       90\n",
       "Rosso Corsa                                   90\n",
       "Glacier White Metallic                        89\n",
       "Quartzite Grey Metallic                       88\n",
       "Platinum Quartz Metallic                      87\n",
       "Pacific Blue Metallic                         87\n",
       "Dark Ash Metallic                             87\n",
       "Selenite Grey Metallic                        87\n",
       "Magnetite Gray Metallic                       86\n",
       "Tungsten Metallic                             84\n",
       "Nero Noctis                                   83\n",
       "Rich Garnet Metallic                          81\n",
       "Sting Gray Clearcoat                          80\n",
       "Obsidian                                      80\n",
       "White Knuckle Clearcoat                       79\n",
       "Deep Blue Metallic                            79\n",
       "Machine Gray Metallic                         78\n",
       "Snowflake White Pearl Metallic                76\n",
       "Black Cherry                                  75\n",
       "Silver Flare Metallic                         74\n",
       "Donington Grey Metallic                       74\n",
       "Magnetic Gray Metallic                        73\n",
       "Stellar Black Metallic                        73\n",
       "Black Noir Pearl                              73\n",
       "Emin White                                    73\n",
       "DB Black Clearcoat                            72\n",
       "Onyx                                          71\n",
       "Dark Slate Metallic                           71\n",
       "Deep Crystal Blue Mica                        70\n",
       "Twilight Black                                70\n",
       "Chronos Gray Metallic                         70\n",
       "Tan                                           69\n",
       "Sparkling Silver                              68\n",
       "Graphite Grey Metallic                        68\n",
       "Glacier Blue Metallic                         68\n",
       "Portofino Gray                                68\n",
       "Super White                                   67\n",
       "Vega Blue                                     66\n",
       "Graphite Grey                                 65\n",
       "Cirrus Silver Metallic                        65\n",
       "Stormy Sea                                    65\n",
       "Midnight Silver Metallic                      64\n",
       "Black Forest Green                            63\n",
       "Carrara White Metallic                        63\n",
       "C / C                                         62\n",
       "Silver Radiance                               62\n",
       "Blueprint                                     61\n",
       "Brands Hatch Gray Metallic                    61\n",
       "Yulong White                                  60\n",
       "Matador Red Metallic                          60\n",
       "Iridium Metallic                              60\n",
       "Shoreline Blue Pearl                          59\n",
       "Arctic White                                  59\n",
       "China Blue                                    59\n",
       "Alta White                                    59\n",
       "Typhoon Gray Metallic                         58\n",
       "White Platinum Tri-Coat Metallic              58\n",
       "Eiger Grey Metallic                           58\n",
       "Carpathian Grey Premium Metallic              57\n",
       "Blue Reflex Mica                              57\n",
       "Frozen Dark Silver Metallic                   56\n",
       "Rosso                                         55\n",
       "Gun Metallic                                  55\n",
       "Red Multi                                     55\n",
       "Ice                                           54\n",
       "BLACK                                         54\n",
       "Quartz White                                  53\n",
       "Carbonized Gray Metallic                      53\n",
       "Red Obsession                                 53\n",
       "Emerald Green Metallic                        53\n",
       "Florett Silver                                52\n",
       "Siren Red Tintcoat                            52\n",
       "Glacier Silver Metallic                       51\n",
       "Octane Red Pearlcoat                          51\n",
       "Chronos Gray                                  51\n",
       "Silver Mist                                   51\n",
       "Navarra Blue Metallic                         50\n",
       "Manhattan Noir Metallic                       50\n",
       "Crystal Black Pearl                           50\n",
       "Navarra Blue                                  49\n",
       "Matador Red Mica                              49\n",
       "Garnet Red Metallic                           48\n",
       "Quicksilver Metallic                          48\n",
       "Selenite Gray Metallic                        48\n",
       "Nightfall Gray Metallic                       48\n",
       "Northsky Blue Metallic                        47\n",
       "Dark Graphite Metallic                        47\n",
       "Hampton Gray                                  46\n",
       "White Clearcoat                               46\n",
       "Designo Magno Matte                           46\n",
       "Shimmering Silver                             44\n",
       "Phantom Black                                 44\n",
       "Vik Black                                     44\n",
       "Maximum Steel Metallic                        44\n",
       "Ibis White                                    44\n",
       "Ember Pearlcoat                               43\n",
       "Cayenne Red Tintcoat                          43\n",
       "Crimson Red Tintcoat                          43\n",
       "Sandstone Metallic                            43\n",
       "Twilight Blue Metallic                        42\n",
       "Star White                                    42\n",
       "Red Quartz Tintcoat                           42\n",
       "Portofino Blue Metallic                       42\n",
       "Remington Red Metallic                        42\n",
       "Typhoon Gray                                  42\n",
       "Hydro Blue Pearlcoat                          42\n",
       "Baltic Gray                                   42\n",
       "Balloon White                                 41\n",
       "Stone Gray Metallic                           41\n",
       "Ingot Silver Metallic                         41\n",
       "Radiant Red Metallic II                       40\n",
       "Orca Black Metallic                           40\n",
       "Infrared Tintcoat                             40\n",
       "Blue Metallic                                 40\n",
       "Santorini Black                               39\n",
       "Brilliant Black                               39\n",
       "Phantom Black Pearl Effect / Black Roof       39\n",
       "Sangria Red                                   39\n",
       "Custom Color                                  38\n",
       "Liquid Platinum                               38\n",
       "Matte White                                   38\n",
       "Ice Silver Metallic                           37\n",
       "Billet Clearcoat Metallic                     36\n",
       "White Diamond Tri-Coat                        36\n",
       "Bianco Isis                                   36\n",
       "Isle of Man Green Metallic                    35\n",
       "Rift Metallic                                 35\n",
       "Burnished Bronze Metallic                     34\n",
       "Lunar Rock                                    33\n",
       "Bronze Dune Metallic                          32\n",
       "Pink                                          32\n",
       "designo Diamond White                         32\n",
       "Verde                                         32\n",
       "Lunare White Metallic                         32\n",
       "Shadow Black                                  32\n",
       "Majestic Plum Metallic                        31\n",
       "Arctic Gray Metallic                          31\n",
       "Diamond White                                 31\n",
       "Pearl White                                   31\n",
       "Scarlet Ember                                 31\n",
       "Silician Yellow                               31\n",
       "Navarre Blue                                  30\n",
       "Kodiak Brown Metallic                         30\n",
       "MANUFAKTUR Diamond White Bright               30\n",
       "Aurora Black                                  30\n",
       "Gentian Blue Metallic                         30\n",
       "Carbon Black Metallic                         29\n",
       "Vulcano Black Metallic                        29\n",
       "Sunset Drift Chromaflair                      29\n",
       "Crystal Black                                 28\n",
       "Volcano Grey Metallic                         28\n",
       "Hellayella Clearcoat                          28\n",
       "Jupiter Red                                   28\n",
       "Redline Red                                   27\n",
       "Moonlight Cloud                               27\n",
       "Wolf Gray                                     27\n",
       "Mineral White                                 26\n",
       "Pacific Blue                                  26\n",
       "Super Black                                   26\n",
       "Oryx White Prl                                26\n",
       "Ruby Red Metallic Tinted Clearcoat            26\n",
       "Caspian Blue                                  26\n",
       "Go Mango!                                     25\n",
       "Anodized Blue Metallic                        25\n",
       "Platinum Gray Metallic                        25\n",
       "Yulong                                        23\n",
       "Arancio Borealis                              23\n",
       "Gecko Pearlcoat                               23\n",
       "Midnight Blue Metallic                        23\n",
       "Carpathian Grey                               23\n",
       "Nightfall Mica                                23\n",
       "Reflex Silver                                 23\n",
       "Dark Sapphire                                 22\n",
       "Grigio Nimbus                                 21\n",
       "Apex Blue                                     21\n",
       "Jungle Green                                  20\n",
       "Cobra Beige Metallic                          20\n",
       "Bianco Monocerus                              20\n",
       "Pristine White                                20\n",
       "Passion Red                                   20\n",
       "Indus Silver                                  19\n",
       "Maroon                                        19\n",
       "Mountain Air Metallic                         19\n",
       "Kinetic Blue                                  18\n",
       "Dazzling White                                17\n",
       "Iridium Silver Metallic                       17\n",
       "Bayside Blue                                  17\n",
       "Volcanic Orange                               17\n",
       "Nero Daytona                                  17\n",
       "Ametrin Metallic                              17\n",
       "Glacier                                       16\n",
       "Fountain Blue                                 16\n",
       "Ultra Black                                   16\n",
       "BLU ELEOS                                     16\n",
       "Electric Blue Metallic                        16\n",
       "Crystal White Pearl                           16\n",
       "Blue Caelum                                   15\n",
       "Quartz Blue Pearl                             15\n",
       "Silky Silver                                  15\n",
       "Ironman Silver                                14\n",
       "Horizon Blue                                  14\n",
       "Granite                                       14\n",
       "Pure White                                    13\n",
       "Frozen White                                  13\n",
       "Tempest                                       12\n",
       "Dark Gray Metallic                            12\n",
       "Thunder Gray                                  11\n",
       "Aventurine Green Metallic                     10\n",
       "Granite Crystal Metallic Clearcoat             8\n",
       "BLUE                                           7\n",
       "Nautical Blue Pearl                            7\n",
       "Mango Tango Pearlcoat                          5\n",
       "GT SILVER                                      5\n",
       "Name: count, dtype: int64"
      ]
     },
     "execution_count": 313,
     "metadata": {},
     "output_type": "execute_result"
    }
   ],
   "source": [
    "df.ext_col.value_counts(dropna=False)"
   ]
  },
  {
   "cell_type": "code",
   "execution_count": null,
   "metadata": {},
   "outputs": [
    {
     "data": {
      "text/plain": [
       "fuel_type\n",
       "Gasoline          276473\n",
       "Hybrid             11508\n",
       "NaN                 9814\n",
       "Flex                8929\n",
       "Diesel              6641\n",
       "Plug-In Hybrid       858\n",
       "Name: count, dtype: int64"
      ]
     },
     "metadata": {},
     "output_type": "display_data"
    }
   ],
   "source": [
    "df['fuel_type'] = df['fuel_type'].replace({\n",
    "    'E85 Flex Fuel': 'Flex',\n",
    "    'not supported': np.nan,\n",
    "    '–': np.nan\n",
    "})\n",
    "df.fuel_type.value_counts(dropna=False)"
   ]
  },
  {
   "cell_type": "code",
   "execution_count": null,
   "metadata": {},
   "outputs": [
    {
     "data": {
      "text/plain": [
       "fuel_type\n",
       "Gasoline          276473\n",
       "Hybrid             11508\n",
       "NaN                 9814\n",
       "Flex                8929\n",
       "Diesel              6641\n",
       "Plug-In Hybrid       858\n",
       "Name: count, dtype: int64"
      ]
     },
     "metadata": {},
     "output_type": "display_data"
    }
   ],
   "source": [
    "df['fuel_type'] = df['fuel_type'].replace({\n",
    "    'E85 Flex Fuel': 'Flex',\n",
    "    'not supported': np.nan,\n",
    "    '–': np.nan\n",
    "})\n",
    "df.fuel_type.value_counts(dropna=False)"
   ]
  },
  {
   "cell_type": "code",
   "execution_count": null,
   "metadata": {},
   "outputs": [],
   "source": []
  }
 ],
 "metadata": {
  "kernelspec": {
   "display_name": "base",
   "language": "python",
   "name": "python3"
  },
  "language_info": {
   "codemirror_mode": {
    "name": "ipython",
    "version": 3
   },
   "file_extension": ".py",
   "mimetype": "text/x-python",
   "name": "python",
   "nbconvert_exporter": "python",
   "pygments_lexer": "ipython3",
   "version": "3.11.7"
  }
 },
 "nbformat": 4,
 "nbformat_minor": 2
}
