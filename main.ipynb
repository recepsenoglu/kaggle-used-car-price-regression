{
 "cells": [
  {
   "cell_type": "code",
   "execution_count": 324,
   "metadata": {},
   "outputs": [],
   "source": [
    "import pandas as pd\n",
    "import numpy as np\n",
    "import matplotlib.pyplot as plt\n",
    "import seaborn as sns\n",
    "\n",
    "from datetime import datetime\n",
    "\n",
    "from sklearn.model_selection import train_test_split\n",
    "from sklearn.metrics import mean_squared_error\n",
    "\n",
    "import warnings\n",
    "\n",
    "pd.set_option('display.max_columns', None)\n",
    "pd.set_option('display.max_rows', None)\n",
    "pd.set_option('display.width', 500)\n",
    "pd.set_option('display.float_format', lambda x: '%.3f' % x)\n",
    "warnings.filterwarnings('ignore')\n"
   ]
  },
  {
   "cell_type": "code",
   "execution_count": 325,
   "metadata": {},
   "outputs": [],
   "source": [
    "df_train = pd.read_csv('data/train.csv')\n",
    "df_test = pd.read_csv('data/test.csv')\n",
    "df_submission = pd.read_csv('data/sample_submission.csv')"
   ]
  },
  {
   "cell_type": "code",
   "execution_count": 326,
   "metadata": {},
   "outputs": [
    {
     "name": "stdout",
     "output_type": "stream",
     "text": [
      "The Train dataset has 188533 rows and 13 columns\n",
      "The Test dataset has 125690 rows and 12 columns\n"
     ]
    }
   ],
   "source": [
    "print(f'The Train dataset has {df_train.shape[0]} rows and {df_train.shape[1]} columns')\n",
    "print(f'The Test dataset has {df_test.shape[0]} rows and {df_test.shape[1]} columns')"
   ]
  },
  {
   "cell_type": "code",
   "execution_count": 327,
   "metadata": {},
   "outputs": [
    {
     "data": {
      "text/html": [
       "<div>\n",
       "<style scoped>\n",
       "    .dataframe tbody tr th:only-of-type {\n",
       "        vertical-align: middle;\n",
       "    }\n",
       "\n",
       "    .dataframe tbody tr th {\n",
       "        vertical-align: top;\n",
       "    }\n",
       "\n",
       "    .dataframe thead th {\n",
       "        text-align: right;\n",
       "    }\n",
       "</style>\n",
       "<table border=\"1\" class=\"dataframe\">\n",
       "  <thead>\n",
       "    <tr style=\"text-align: right;\">\n",
       "      <th></th>\n",
       "      <th>id</th>\n",
       "      <th>brand</th>\n",
       "      <th>model</th>\n",
       "      <th>model_year</th>\n",
       "      <th>milage</th>\n",
       "      <th>fuel_type</th>\n",
       "      <th>engine</th>\n",
       "      <th>transmission</th>\n",
       "      <th>ext_col</th>\n",
       "      <th>int_col</th>\n",
       "      <th>accident</th>\n",
       "      <th>clean_title</th>\n",
       "      <th>price</th>\n",
       "    </tr>\n",
       "  </thead>\n",
       "  <tbody>\n",
       "    <tr>\n",
       "      <th>0</th>\n",
       "      <td>0</td>\n",
       "      <td>MINI</td>\n",
       "      <td>Cooper S Base</td>\n",
       "      <td>2007</td>\n",
       "      <td>213000</td>\n",
       "      <td>Gasoline</td>\n",
       "      <td>172.0HP 1.6L 4 Cylinder Engine Gasoline Fuel</td>\n",
       "      <td>A/T</td>\n",
       "      <td>Yellow</td>\n",
       "      <td>Gray</td>\n",
       "      <td>None reported</td>\n",
       "      <td>Yes</td>\n",
       "      <td>4200</td>\n",
       "    </tr>\n",
       "    <tr>\n",
       "      <th>1</th>\n",
       "      <td>1</td>\n",
       "      <td>Lincoln</td>\n",
       "      <td>LS V8</td>\n",
       "      <td>2002</td>\n",
       "      <td>143250</td>\n",
       "      <td>Gasoline</td>\n",
       "      <td>252.0HP 3.9L 8 Cylinder Engine Gasoline Fuel</td>\n",
       "      <td>A/T</td>\n",
       "      <td>Silver</td>\n",
       "      <td>Beige</td>\n",
       "      <td>At least 1 accident or damage reported</td>\n",
       "      <td>Yes</td>\n",
       "      <td>4999</td>\n",
       "    </tr>\n",
       "    <tr>\n",
       "      <th>2</th>\n",
       "      <td>2</td>\n",
       "      <td>Chevrolet</td>\n",
       "      <td>Silverado 2500 LT</td>\n",
       "      <td>2002</td>\n",
       "      <td>136731</td>\n",
       "      <td>E85 Flex Fuel</td>\n",
       "      <td>320.0HP 5.3L 8 Cylinder Engine Flex Fuel Capab...</td>\n",
       "      <td>A/T</td>\n",
       "      <td>Blue</td>\n",
       "      <td>Gray</td>\n",
       "      <td>None reported</td>\n",
       "      <td>Yes</td>\n",
       "      <td>13900</td>\n",
       "    </tr>\n",
       "    <tr>\n",
       "      <th>3</th>\n",
       "      <td>3</td>\n",
       "      <td>Genesis</td>\n",
       "      <td>G90 5.0 Ultimate</td>\n",
       "      <td>2017</td>\n",
       "      <td>19500</td>\n",
       "      <td>Gasoline</td>\n",
       "      <td>420.0HP 5.0L 8 Cylinder Engine Gasoline Fuel</td>\n",
       "      <td>Transmission w/Dual Shift Mode</td>\n",
       "      <td>Black</td>\n",
       "      <td>Black</td>\n",
       "      <td>None reported</td>\n",
       "      <td>Yes</td>\n",
       "      <td>45000</td>\n",
       "    </tr>\n",
       "    <tr>\n",
       "      <th>4</th>\n",
       "      <td>4</td>\n",
       "      <td>Mercedes-Benz</td>\n",
       "      <td>Metris Base</td>\n",
       "      <td>2021</td>\n",
       "      <td>7388</td>\n",
       "      <td>Gasoline</td>\n",
       "      <td>208.0HP 2.0L 4 Cylinder Engine Gasoline Fuel</td>\n",
       "      <td>7-Speed A/T</td>\n",
       "      <td>Black</td>\n",
       "      <td>Beige</td>\n",
       "      <td>None reported</td>\n",
       "      <td>Yes</td>\n",
       "      <td>97500</td>\n",
       "    </tr>\n",
       "  </tbody>\n",
       "</table>\n",
       "</div>"
      ],
      "text/plain": [
       "   id          brand              model  model_year  milage      fuel_type                                             engine                    transmission ext_col int_col                                accident clean_title  price\n",
       "0   0           MINI      Cooper S Base        2007  213000       Gasoline       172.0HP 1.6L 4 Cylinder Engine Gasoline Fuel                             A/T  Yellow    Gray                           None reported         Yes   4200\n",
       "1   1        Lincoln              LS V8        2002  143250       Gasoline       252.0HP 3.9L 8 Cylinder Engine Gasoline Fuel                             A/T  Silver   Beige  At least 1 accident or damage reported         Yes   4999\n",
       "2   2      Chevrolet  Silverado 2500 LT        2002  136731  E85 Flex Fuel  320.0HP 5.3L 8 Cylinder Engine Flex Fuel Capab...                             A/T    Blue    Gray                           None reported         Yes  13900\n",
       "3   3        Genesis   G90 5.0 Ultimate        2017   19500       Gasoline       420.0HP 5.0L 8 Cylinder Engine Gasoline Fuel  Transmission w/Dual Shift Mode   Black   Black                           None reported         Yes  45000\n",
       "4   4  Mercedes-Benz        Metris Base        2021    7388       Gasoline       208.0HP 2.0L 4 Cylinder Engine Gasoline Fuel                     7-Speed A/T   Black   Beige                           None reported         Yes  97500"
      ]
     },
     "execution_count": 327,
     "metadata": {},
     "output_type": "execute_result"
    }
   ],
   "source": [
    "df_train.head()"
   ]
  },
  {
   "cell_type": "code",
   "execution_count": 328,
   "metadata": {},
   "outputs": [
    {
     "name": "stdout",
     "output_type": "stream",
     "text": [
      "<class 'pandas.core.frame.DataFrame'>\n",
      "RangeIndex: 188533 entries, 0 to 188532\n",
      "Data columns (total 13 columns):\n",
      " #   Column        Non-Null Count   Dtype \n",
      "---  ------        --------------   ----- \n",
      " 0   id            188533 non-null  int64 \n",
      " 1   brand         188533 non-null  object\n",
      " 2   model         188533 non-null  object\n",
      " 3   model_year    188533 non-null  int64 \n",
      " 4   milage        188533 non-null  int64 \n",
      " 5   fuel_type     183450 non-null  object\n",
      " 6   engine        188533 non-null  object\n",
      " 7   transmission  188533 non-null  object\n",
      " 8   ext_col       188533 non-null  object\n",
      " 9   int_col       188533 non-null  object\n",
      " 10  accident      186081 non-null  object\n",
      " 11  clean_title   167114 non-null  object\n",
      " 12  price         188533 non-null  int64 \n",
      "dtypes: int64(4), object(9)\n",
      "memory usage: 18.7+ MB\n"
     ]
    }
   ],
   "source": [
    "df_train.info()"
   ]
  },
  {
   "cell_type": "code",
   "execution_count": 329,
   "metadata": {},
   "outputs": [],
   "source": [
    "df_train['data_type'] = 'train'\n",
    "df_test['data_type'] = 'test'\n",
    "df = pd.concat([df_train, df_test], axis=0)"
   ]
  },
  {
   "cell_type": "code",
   "execution_count": 330,
   "metadata": {},
   "outputs": [],
   "source": [
    "df.drop(columns=['id'], inplace=True)"
   ]
  },
  {
   "cell_type": "markdown",
   "metadata": {},
   "source": [
    "## Dealing with fuel type and engine"
   ]
  },
  {
   "cell_type": "code",
   "execution_count": 331,
   "metadata": {},
   "outputs": [
    {
     "data": {
      "text/plain": [
       "8466"
      ]
     },
     "execution_count": 331,
     "metadata": {},
     "output_type": "execute_result"
    }
   ],
   "source": [
    "df.fuel_type.isna().sum()"
   ]
  },
  {
   "cell_type": "code",
   "execution_count": 332,
   "metadata": {},
   "outputs": [
    {
     "data": {
      "text/plain": [
       "fuel_type\n",
       "Gasoline          276473\n",
       "Hybrid             11508\n",
       "E85 Flex Fuel       8929\n",
       "Diesel              6641\n",
       "–                   1319\n",
       "Plug-In Hybrid       858\n",
       "not supported         29\n",
       "Name: count, dtype: int64"
      ]
     },
     "execution_count": 332,
     "metadata": {},
     "output_type": "execute_result"
    }
   ],
   "source": [
    "df.fuel_type.value_counts()"
   ]
  },
  {
   "cell_type": "code",
   "execution_count": 333,
   "metadata": {},
   "outputs": [
    {
     "data": {
      "text/plain": [
       "0"
      ]
     },
     "execution_count": 333,
     "metadata": {},
     "output_type": "execute_result"
    }
   ],
   "source": [
    "df.engine.isna().sum()"
   ]
  },
  {
   "cell_type": "code",
   "execution_count": 334,
   "metadata": {},
   "outputs": [
    {
     "data": {
      "text/plain": [
       "engine\n",
       "355.0HP 5.3L 8 Cylinder Engine Gasoline Fuel     5651\n",
       "240.0HP 2.0L 4 Cylinder Engine Gasoline Fuel     4868\n",
       "420.0HP 6.2L 8 Cylinder Engine Gasoline Fuel     4694\n",
       "2.0L I4 16V GDI DOHC Turbo                       4513\n",
       "375.0HP 3.5L V6 Cylinder Engine Gasoline Fuel    4090\n",
       "Name: count, dtype: int64"
      ]
     },
     "execution_count": 334,
     "metadata": {},
     "output_type": "execute_result"
    }
   ],
   "source": [
    "df.engine.value_counts().sort_values(ascending=False).head(5)"
   ]
  },
  {
   "cell_type": "markdown",
   "metadata": {},
   "source": [
    "### Extracting Horsepower, Engine Size, and Cylinder Count"
   ]
  },
  {
   "cell_type": "code",
   "execution_count": 335,
   "metadata": {},
   "outputs": [],
   "source": [
    "import re\n",
    "\n",
    "pattern_1 = r'(?:(\\d{1,3}\\.\\d{1,3})HP)?\\s*(\\d{1,2}(?:\\.\\d{1,2})?)?\\s*(?:L|\\s*Liter)?\\s*(?:[A-Za-z\\s-]*)?(\\d+)?\\s*(?:V|I|Straight)?\\s*(?:Cylinder)?'\n",
    "\n",
    "# Apply regex for horsepower, engine size, and cylinder count\n",
    "df[['horsepower', 'engine_size', 'cylinder_count']] = df['engine'].str.extract(pattern_1)\n",
    "\n",
    "# Convert numeric fields to appropriate data types\n",
    "df['horsepower'] = pd.to_numeric(df['horsepower'], errors='coerce')\n",
    "df['engine_size'] = pd.to_numeric(df['engine_size'], errors='coerce')\n",
    "df['cylinder_count'] = pd.to_numeric(df['cylinder_count'], errors='coerce')"
   ]
  },
  {
   "cell_type": "code",
   "execution_count": 336,
   "metadata": {},
   "outputs": [
    {
     "name": "stdout",
     "output_type": "stream",
     "text": [
      "Horsepower NaN Count:  55502\n",
      "Engine Size NaN Count:  11113\n",
      "Cylinder Count NaN Count:  23427\n"
     ]
    }
   ],
   "source": [
    "print(\"Horsepower NaN Count: \", df.horsepower.isna().sum())\n",
    "print(\"Engine Size NaN Count: \", df.engine_size.isna().sum())\n",
    "print(\"Cylinder Count NaN Count: \", df.cylinder_count.isna().sum())"
   ]
  },
  {
   "cell_type": "markdown",
   "metadata": {},
   "source": [
    "### Extracting Fuel Type"
   ]
  },
  {
   "cell_type": "code",
   "execution_count": 337,
   "metadata": {},
   "outputs": [
    {
     "name": "stdout",
     "output_type": "stream",
     "text": [
      "engine_fuel_type\n",
      "Gasoline                233024\n",
      "NaN                      52561\n",
      "Flex Fuel                 8551\n",
      "Electric Motor            8230\n",
      "Diesel                    6889\n",
      "Gas/Electric Hybrid       2565\n",
      "Plug-In Electric/Gas       893\n",
      "Electric                   826\n",
      "Hybrid                     684\n",
      "Name: count, dtype: int64\n"
     ]
    }
   ],
   "source": [
    "# Regex pattern for fuel type\n",
    "pattern_2 = r'(Electric Motor|Electric Fuel System|Electric|Gasoline|Diesel|Flex Fuel|Plug-In Electric/Gas|Plug-In Electric|Plug-In Hybrid|Hybrid.*|Gas/Electric Hybrid)'\n",
    "\n",
    "# Apply regex for fuel type\n",
    "df['engine_fuel_type'] = df['engine'].str.extract(pattern_2)\n",
    "\n",
    "# Check the result\n",
    "print(df['engine_fuel_type'].value_counts(dropna=False))"
   ]
  },
  {
   "cell_type": "code",
   "execution_count": 338,
   "metadata": {},
   "outputs": [
    {
     "data": {
      "text/plain": [
       "engine_fuel_type\n",
       "Gasoline          233024\n",
       "Electric            9056\n",
       "Flex                8551\n",
       "Diesel              6889\n",
       "Hybrid              3249\n",
       "Plug-In Hybrid       893\n",
       "Name: count, dtype: int64"
      ]
     },
     "execution_count": 338,
     "metadata": {},
     "output_type": "execute_result"
    }
   ],
   "source": [
    "df['engine_fuel_type'] = df['engine_fuel_type'].replace({\n",
    "    'Electric Motor': 'Electric',\n",
    "    'Plug-In Electric': 'Electric',\n",
    "    'Gas/Electric Hybrid': 'Hybrid',\n",
    "    'Plug-In Electric/Gas': 'Plug-In Hybrid',\n",
    "    'Flex Fuel': 'Flex',\n",
    "})\n",
    "df.engine_fuel_type.value_counts()"
   ]
  },
  {
   "cell_type": "code",
   "execution_count": 339,
   "metadata": {},
   "outputs": [
    {
     "data": {
      "text/plain": [
       "fuel_type\n",
       "Gasoline          276473\n",
       "Hybrid             11508\n",
       "E85 Flex Fuel       8929\n",
       "Diesel              6641\n",
       "–                   1319\n",
       "Plug-In Hybrid       858\n",
       "not supported         29\n",
       "Name: count, dtype: int64"
      ]
     },
     "execution_count": 339,
     "metadata": {},
     "output_type": "execute_result"
    }
   ],
   "source": [
    "df.fuel_type.value_counts()"
   ]
  },
  {
   "cell_type": "code",
   "execution_count": 340,
   "metadata": {},
   "outputs": [
    {
     "data": {
      "text/plain": [
       "fuel_type\n",
       "Gasoline          276473\n",
       "Hybrid             11508\n",
       "NaN                 9814\n",
       "Flex                8929\n",
       "Diesel              6641\n",
       "Plug-In Hybrid       858\n",
       "Name: count, dtype: int64"
      ]
     },
     "execution_count": 340,
     "metadata": {},
     "output_type": "execute_result"
    }
   ],
   "source": [
    "df['fuel_type'] = df['fuel_type'].replace({\n",
    "    'E85 Flex Fuel': 'Flex',\n",
    "    'not supported': np.nan,\n",
    "    '–': np.nan\n",
    "})\n",
    "df.fuel_type.value_counts(dropna=False)"
   ]
  },
  {
   "cell_type": "markdown",
   "metadata": {},
   "source": [
    "### Filling NaN values in fuel_type with engine_fuel_type"
   ]
  },
  {
   "cell_type": "code",
   "execution_count": 341,
   "metadata": {},
   "outputs": [
    {
     "data": {
      "text/plain": [
       "fuel_type\n",
       "Gasoline          276587\n",
       "Hybrid             11512\n",
       "Flex                8932\n",
       "Electric            8099\n",
       "Diesel              6646\n",
       "NaN                 1588\n",
       "Plug-In Hybrid       859\n",
       "Name: count, dtype: int64"
      ]
     },
     "execution_count": 341,
     "metadata": {},
     "output_type": "execute_result"
    }
   ],
   "source": [
    "df.loc[df.fuel_type.isna(), 'fuel_type'] = df.loc[df.fuel_type.isna(), 'engine_fuel_type']\n",
    "df.fuel_type.value_counts(dropna=False)"
   ]
  },
  {
   "cell_type": "markdown",
   "metadata": {},
   "source": [
    "## Ext and Int colors"
   ]
  },
  {
   "cell_type": "code",
   "execution_count": 342,
   "metadata": {},
   "outputs": [
    {
     "data": {
      "text/plain": [
       "ext_col\n",
       "Black                                      81028\n",
       "White                                      73040\n",
       "Gray                                       42193\n",
       "Silver                                     28343\n",
       "Blue                                       24272\n",
       "Red                                        16548\n",
       "Green                                       4556\n",
       "Gold                                        2838\n",
       "Brown                                       1920\n",
       "Orange                                      1896\n",
       "Beige                                       1820\n",
       "Yellow                                      1603\n",
       "Bright White Clearcoat                      1263\n",
       "Diamond Black                               1170\n",
       "Agate Black Metallic                        1056\n",
       "Summit White                                 852\n",
       "Silver Ice Metallic                          738\n",
       "Mythos Black Metallic                        697\n",
       "Midnight Black Metallic                      641\n",
       "Granite Crystal Clearcoat Metallic           602\n",
       "–                                            589\n",
       "Purple                                       577\n",
       "Oxford White                                 514\n",
       "Ebony Twilight Metallic                      511\n",
       "Santorini Black Metallic                     504\n",
       "Black Clearcoat                              495\n",
       "Alpine White                                 493\n",
       "Obsidian Black Metallic                      452\n",
       "designo Diamond White Metallic               365\n",
       "Snowflake White Pearl                        349\n",
       "Firecracker Red Clearcoat                    346\n",
       "Soul Red Crystal Metallic                    339\n",
       "Daytona Gray Pearl Effect                    339\n",
       "Delmonico Red Pearlcoat                      332\n",
       "Glacial White Pearl                          327\n",
       "Shadow Gray Metallic                         321\n",
       "Atomic Silver                                312\n",
       "Fuji White                                   307\n",
       "Black Sapphire Metallic                      290\n",
       "Velvet Red Pearlcoat                         285\n",
       "Satin Steel Metallic                         257\n",
       "Magnetic Metallic                            253\n",
       "Rosso Mars Metallic                          247\n",
       "Santorin Black                               247\n",
       "Metallic                                     243\n",
       "Cajun Red Tintcoat                           226\n",
       "Lunar Silver Metallic                        225\n",
       "Black Raven                                  209\n",
       "Blu                                          203\n",
       "Brilliant Silver Metallic                    203\n",
       "Ebony Black                                  196\n",
       "Daytona Gray Pearl Effect w/ Black Roof      192\n",
       "Antimatter Blue Metallic                     192\n",
       "Dark Matter Metallic                         191\n",
       "Jet Black Mica                               184\n",
       "Caviar                                       183\n",
       "Daytona Gray                                 182\n",
       "Firenze Red                                  175\n",
       "Ultra White                                  170\n",
       "Snow White Pearl                             170\n",
       "Python Green                                 167\n",
       "Deep Black Pearl Effect                      164\n",
       "Lunar Blue Metallic                          162\n",
       "Iconic Silver Metallic                       159\n",
       "Billet Silver Metallic Clearcoat             157\n",
       "Alfa White                                   156\n",
       "Ruby Flare Pearl                             155\n",
       "Platinum White Pearl                         155\n",
       "Mythos Black                                 155\n",
       "Crystal Black Silica                         152\n",
       "Dark Moss                                    151\n",
       "Nebula Gray Pearl                            151\n",
       "designo Diamond White Bright                 151\n",
       "Phytonic Blue Metallic                       150\n",
       "Lizard Green                                 148\n",
       "Majestic Black Pearl                         144\n",
       "Silver Zynith                                143\n",
       "Beluga Black                                 141\n",
       "Hyper Red                                    125\n",
       "Flame Red Clearcoat                          123\n",
       "Firenze Red Metallic                         121\n",
       "Mosaic Black Metallic                        121\n",
       "Titanium Silver                              118\n",
       "Eminent White Pearl                          117\n",
       "White Frost Tri-Coat                         117\n",
       "Iridescent Pearl Tricoat                     117\n",
       "Bianco Icarus Metallic                       116\n",
       "Barcelona Red                                112\n",
       "Onyx Black                                   112\n",
       "Midnight Black                               111\n",
       "Magnetic Black                               111\n",
       "Sonic Silver Metallic                        110\n",
       "Imperial Blue Metallic                       108\n",
       "Eiger Grey                                   108\n",
       "Black Obsidian                               107\n",
       "Rapid Red Metallic Tinted Clearcoat          106\n",
       "Wind Chill Pearl                             105\n",
       "Tango Red Metallic                            99\n",
       "Dark Moon Blue Metallic                       99\n",
       "Chalk                                         97\n",
       "Anthracite Blue Metallic                      95\n",
       "Magnetite Black Metallic                      94\n",
       "Patriot Blue Pearlcoat                        94\n",
       "Kemora Gray Metallic                          93\n",
       "Magnetic Gray Clearcoat                       93\n",
       "Glacier White                                 92\n",
       "Polymetal Gray Metallic                       90\n",
       "Rosso Corsa                                   90\n",
       "Glacier White Metallic                        89\n",
       "Quartzite Grey Metallic                       88\n",
       "Platinum Quartz Metallic                      87\n",
       "Pacific Blue Metallic                         87\n",
       "Dark Ash Metallic                             87\n",
       "Selenite Grey Metallic                        87\n",
       "Magnetite Gray Metallic                       86\n",
       "Tungsten Metallic                             84\n",
       "Nero Noctis                                   83\n",
       "Rich Garnet Metallic                          81\n",
       "Sting Gray Clearcoat                          80\n",
       "Obsidian                                      80\n",
       "White Knuckle Clearcoat                       79\n",
       "Deep Blue Metallic                            79\n",
       "Machine Gray Metallic                         78\n",
       "Snowflake White Pearl Metallic                76\n",
       "Black Cherry                                  75\n",
       "Silver Flare Metallic                         74\n",
       "Donington Grey Metallic                       74\n",
       "Magnetic Gray Metallic                        73\n",
       "Stellar Black Metallic                        73\n",
       "Black Noir Pearl                              73\n",
       "Emin White                                    73\n",
       "DB Black Clearcoat                            72\n",
       "Onyx                                          71\n",
       "Dark Slate Metallic                           71\n",
       "Deep Crystal Blue Mica                        70\n",
       "Twilight Black                                70\n",
       "Chronos Gray Metallic                         70\n",
       "Tan                                           69\n",
       "Sparkling Silver                              68\n",
       "Graphite Grey Metallic                        68\n",
       "Glacier Blue Metallic                         68\n",
       "Portofino Gray                                68\n",
       "Super White                                   67\n",
       "Vega Blue                                     66\n",
       "Graphite Grey                                 65\n",
       "Cirrus Silver Metallic                        65\n",
       "Stormy Sea                                    65\n",
       "Midnight Silver Metallic                      64\n",
       "Black Forest Green                            63\n",
       "Carrara White Metallic                        63\n",
       "C / C                                         62\n",
       "Silver Radiance                               62\n",
       "Blueprint                                     61\n",
       "Brands Hatch Gray Metallic                    61\n",
       "Yulong White                                  60\n",
       "Matador Red Metallic                          60\n",
       "Iridium Metallic                              60\n",
       "Shoreline Blue Pearl                          59\n",
       "Arctic White                                  59\n",
       "China Blue                                    59\n",
       "Alta White                                    59\n",
       "Typhoon Gray Metallic                         58\n",
       "White Platinum Tri-Coat Metallic              58\n",
       "Eiger Grey Metallic                           58\n",
       "Carpathian Grey Premium Metallic              57\n",
       "Blue Reflex Mica                              57\n",
       "Frozen Dark Silver Metallic                   56\n",
       "Rosso                                         55\n",
       "Gun Metallic                                  55\n",
       "Red Multi                                     55\n",
       "Ice                                           54\n",
       "BLACK                                         54\n",
       "Quartz White                                  53\n",
       "Carbonized Gray Metallic                      53\n",
       "Red Obsession                                 53\n",
       "Emerald Green Metallic                        53\n",
       "Florett Silver                                52\n",
       "Siren Red Tintcoat                            52\n",
       "Glacier Silver Metallic                       51\n",
       "Octane Red Pearlcoat                          51\n",
       "Chronos Gray                                  51\n",
       "Silver Mist                                   51\n",
       "Navarra Blue Metallic                         50\n",
       "Manhattan Noir Metallic                       50\n",
       "Crystal Black Pearl                           50\n",
       "Navarra Blue                                  49\n",
       "Matador Red Mica                              49\n",
       "Garnet Red Metallic                           48\n",
       "Quicksilver Metallic                          48\n",
       "Selenite Gray Metallic                        48\n",
       "Nightfall Gray Metallic                       48\n",
       "Northsky Blue Metallic                        47\n",
       "Dark Graphite Metallic                        47\n",
       "Hampton Gray                                  46\n",
       "White Clearcoat                               46\n",
       "Designo Magno Matte                           46\n",
       "Shimmering Silver                             44\n",
       "Phantom Black                                 44\n",
       "Vik Black                                     44\n",
       "Maximum Steel Metallic                        44\n",
       "Ibis White                                    44\n",
       "Ember Pearlcoat                               43\n",
       "Cayenne Red Tintcoat                          43\n",
       "Crimson Red Tintcoat                          43\n",
       "Sandstone Metallic                            43\n",
       "Twilight Blue Metallic                        42\n",
       "Star White                                    42\n",
       "Red Quartz Tintcoat                           42\n",
       "Portofino Blue Metallic                       42\n",
       "Remington Red Metallic                        42\n",
       "Typhoon Gray                                  42\n",
       "Hydro Blue Pearlcoat                          42\n",
       "Baltic Gray                                   42\n",
       "Balloon White                                 41\n",
       "Stone Gray Metallic                           41\n",
       "Ingot Silver Metallic                         41\n",
       "Radiant Red Metallic II                       40\n",
       "Orca Black Metallic                           40\n",
       "Infrared Tintcoat                             40\n",
       "Blue Metallic                                 40\n",
       "Santorini Black                               39\n",
       "Brilliant Black                               39\n",
       "Phantom Black Pearl Effect / Black Roof       39\n",
       "Sangria Red                                   39\n",
       "Custom Color                                  38\n",
       "Liquid Platinum                               38\n",
       "Matte White                                   38\n",
       "Ice Silver Metallic                           37\n",
       "Billet Clearcoat Metallic                     36\n",
       "White Diamond Tri-Coat                        36\n",
       "Bianco Isis                                   36\n",
       "Isle of Man Green Metallic                    35\n",
       "Rift Metallic                                 35\n",
       "Burnished Bronze Metallic                     34\n",
       "Lunar Rock                                    33\n",
       "Bronze Dune Metallic                          32\n",
       "Pink                                          32\n",
       "designo Diamond White                         32\n",
       "Verde                                         32\n",
       "Lunare White Metallic                         32\n",
       "Shadow Black                                  32\n",
       "Majestic Plum Metallic                        31\n",
       "Arctic Gray Metallic                          31\n",
       "Diamond White                                 31\n",
       "Pearl White                                   31\n",
       "Scarlet Ember                                 31\n",
       "Silician Yellow                               31\n",
       "Navarre Blue                                  30\n",
       "Kodiak Brown Metallic                         30\n",
       "MANUFAKTUR Diamond White Bright               30\n",
       "Aurora Black                                  30\n",
       "Gentian Blue Metallic                         30\n",
       "Carbon Black Metallic                         29\n",
       "Vulcano Black Metallic                        29\n",
       "Sunset Drift Chromaflair                      29\n",
       "Crystal Black                                 28\n",
       "Volcano Grey Metallic                         28\n",
       "Hellayella Clearcoat                          28\n",
       "Jupiter Red                                   28\n",
       "Redline Red                                   27\n",
       "Moonlight Cloud                               27\n",
       "Wolf Gray                                     27\n",
       "Mineral White                                 26\n",
       "Pacific Blue                                  26\n",
       "Super Black                                   26\n",
       "Oryx White Prl                                26\n",
       "Ruby Red Metallic Tinted Clearcoat            26\n",
       "Caspian Blue                                  26\n",
       "Go Mango!                                     25\n",
       "Anodized Blue Metallic                        25\n",
       "Platinum Gray Metallic                        25\n",
       "Yulong                                        23\n",
       "Arancio Borealis                              23\n",
       "Gecko Pearlcoat                               23\n",
       "Midnight Blue Metallic                        23\n",
       "Carpathian Grey                               23\n",
       "Nightfall Mica                                23\n",
       "Reflex Silver                                 23\n",
       "Dark Sapphire                                 22\n",
       "Grigio Nimbus                                 21\n",
       "Apex Blue                                     21\n",
       "Jungle Green                                  20\n",
       "Cobra Beige Metallic                          20\n",
       "Bianco Monocerus                              20\n",
       "Pristine White                                20\n",
       "Passion Red                                   20\n",
       "Indus Silver                                  19\n",
       "Maroon                                        19\n",
       "Mountain Air Metallic                         19\n",
       "Kinetic Blue                                  18\n",
       "Dazzling White                                17\n",
       "Iridium Silver Metallic                       17\n",
       "Bayside Blue                                  17\n",
       "Volcanic Orange                               17\n",
       "Nero Daytona                                  17\n",
       "Ametrin Metallic                              17\n",
       "Glacier                                       16\n",
       "Fountain Blue                                 16\n",
       "Ultra Black                                   16\n",
       "BLU ELEOS                                     16\n",
       "Electric Blue Metallic                        16\n",
       "Crystal White Pearl                           16\n",
       "Blue Caelum                                   15\n",
       "Quartz Blue Pearl                             15\n",
       "Silky Silver                                  15\n",
       "Ironman Silver                                14\n",
       "Horizon Blue                                  14\n",
       "Granite                                       14\n",
       "Pure White                                    13\n",
       "Frozen White                                  13\n",
       "Tempest                                       12\n",
       "Dark Gray Metallic                            12\n",
       "Thunder Gray                                  11\n",
       "Aventurine Green Metallic                     10\n",
       "Granite Crystal Metallic Clearcoat             8\n",
       "BLUE                                           7\n",
       "Nautical Blue Pearl                            7\n",
       "Mango Tango Pearlcoat                          5\n",
       "GT SILVER                                      5\n",
       "Name: count, dtype: int64"
      ]
     },
     "execution_count": 342,
     "metadata": {},
     "output_type": "execute_result"
    }
   ],
   "source": [
    "df.ext_col.value_counts(dropna=False)"
   ]
  },
  {
   "cell_type": "code",
   "execution_count": 343,
   "metadata": {},
   "outputs": [],
   "source": [
    "df.ext_col = df.ext_col.apply(lambda x: x.lower())\n",
    "df.int_col = df.int_col.apply(lambda x: x.lower())"
   ]
  },
  {
   "cell_type": "code",
   "execution_count": 344,
   "metadata": {},
   "outputs": [],
   "source": [
    "elementary_colors = ['black', 'gray', 'grey', 'silver', 'white', 'red', 'blue', 'brown', 'yellow', 'green', 'orange', 'pink', 'purple']\n",
    "\n",
    "def map_to_elementary_color(color_name):\n",
    "    color_name_lower = color_name.lower()\n",
    "    for color in elementary_colors:\n",
    "        if color in color_name_lower:\n",
    "            return color \n",
    "    return 'other'\n",
    "\n",
    "df['ext_col'] = df['ext_col'].apply(map_to_elementary_color)\n",
    "df['int_col'] = df['int_col'].apply(map_to_elementary_color)"
   ]
  },
  {
   "cell_type": "markdown",
   "metadata": {},
   "source": [
    "## Clean title"
   ]
  },
  {
   "cell_type": "code",
   "execution_count": 345,
   "metadata": {},
   "outputs": [
    {
     "data": {
      "text/plain": [
       "clean_title\n",
       "Yes    278565\n",
       "NaN     35658\n",
       "Name: count, dtype: int64"
      ]
     },
     "execution_count": 345,
     "metadata": {},
     "output_type": "execute_result"
    }
   ],
   "source": [
    "df.clean_title.value_counts(dropna=False)"
   ]
  },
  {
   "cell_type": "code",
   "execution_count": 346,
   "metadata": {},
   "outputs": [
    {
     "data": {
      "text/plain": [
       "clean_title\n",
       "Yes    278565\n",
       "No      35658\n",
       "Name: count, dtype: int64"
      ]
     },
     "execution_count": 346,
     "metadata": {},
     "output_type": "execute_result"
    }
   ],
   "source": [
    "df['clean_title'] = df['clean_title'].replace({\n",
    "    np.nan: 'No'\n",
    "})\n",
    "df.clean_title.value_counts(dropna=False)"
   ]
  },
  {
   "cell_type": "markdown",
   "metadata": {},
   "source": [
    "## Accident"
   ]
  },
  {
   "cell_type": "code",
   "execution_count": 347,
   "metadata": {},
   "outputs": [
    {
     "data": {
      "text/plain": [
       "accident\n",
       "None reported                             240777\n",
       "At least 1 accident or damage reported     69362\n",
       "NaN                                         4084\n",
       "Name: count, dtype: int64"
      ]
     },
     "execution_count": 347,
     "metadata": {},
     "output_type": "execute_result"
    }
   ],
   "source": [
    "df.accident.value_counts(dropna=False)"
   ]
  },
  {
   "cell_type": "code",
   "execution_count": 348,
   "metadata": {},
   "outputs": [
    {
     "data": {
      "text/plain": [
       "accident\n",
       "None reported                             244861\n",
       "At least 1 accident or damage reported     69362\n",
       "Name: count, dtype: int64"
      ]
     },
     "execution_count": 348,
     "metadata": {},
     "output_type": "execute_result"
    }
   ],
   "source": [
    "df['accident'] = df['accident'].replace({\n",
    "    np.nan: 'None reported',\n",
    "})\n",
    "df.accident.value_counts(dropna=False)"
   ]
  },
  {
   "cell_type": "markdown",
   "metadata": {},
   "source": [
    "## Model year"
   ]
  },
  {
   "cell_type": "code",
   "execution_count": 349,
   "metadata": {},
   "outputs": [
    {
     "data": {
      "text/plain": [
       "0"
      ]
     },
     "execution_count": 349,
     "metadata": {},
     "output_type": "execute_result"
    }
   ],
   "source": [
    "df.model_year.isna().sum()"
   ]
  },
  {
   "cell_type": "markdown",
   "metadata": {},
   "source": [
    "### Creating a new feature: age_of_car"
   ]
  },
  {
   "cell_type": "code",
   "execution_count": 350,
   "metadata": {},
   "outputs": [
    {
     "name": "stdout",
     "output_type": "stream",
     "text": [
      "count   314223.000\n",
      "mean         8.183\n",
      "std          5.666\n",
      "min          0.000\n",
      "25%          4.000\n",
      "50%          7.000\n",
      "75%         11.000\n",
      "max         50.000\n",
      "Name: age_of_car, dtype: float64\n"
     ]
    }
   ],
   "source": [
    "df['age_of_car'] = df['model_year'].apply(lambda x: datetime.now().year - x).astype(int)\n",
    "print(df.age_of_car.describe())"
   ]
  },
  {
   "cell_type": "markdown",
   "metadata": {},
   "source": [
    "## Transmission"
   ]
  },
  {
   "cell_type": "code",
   "execution_count": 351,
   "metadata": {},
   "outputs": [
    {
     "data": {
      "text/plain": [
       "transmission\n",
       "A/T                                                   83036\n",
       "8-Speed A/T                                           34586\n",
       "Transmission w/Dual Shift Mode                        32079\n",
       "6-Speed A/T                                           30105\n",
       "6-Speed M/T                                           19863\n",
       "7-Speed A/T                                           18498\n",
       "Automatic                                             17866\n",
       "8-Speed Automatic                                     13977\n",
       "10-Speed A/T                                          13347\n",
       "9-Speed A/T                                            6450\n",
       "5-Speed A/T                                            5458\n",
       "10-Speed Automatic                                     5268\n",
       "6-Speed Automatic                                      4690\n",
       "4-Speed A/T                                            4212\n",
       "5-Speed M/T                                            4048\n",
       "9-Speed Automatic                                      3878\n",
       "CVT Transmission                                       3327\n",
       "1-Speed A/T                                            3160\n",
       "7-Speed Automatic with Auto-Shift                      1972\n",
       "M/T                                                    1920\n",
       "Automatic CVT                                          1370\n",
       "8-Speed Automatic with Auto-Shift                       894\n",
       "7-Speed M/T                                             635\n",
       "1-Speed Automatic                                       600\n",
       "6-Speed Manual                                          341\n",
       "5-Speed Automatic                                       290\n",
       "7-Speed Automatic                                       290\n",
       "Transmission Overdrive Switch                           280\n",
       "7-Speed Manual                                          240\n",
       "6-Speed Automatic with Auto-Shift                       173\n",
       "2                                                       155\n",
       "–                                                       127\n",
       "Variable                                                124\n",
       "2-Speed A/T                                             116\n",
       "F                                                       107\n",
       "4-Speed Automatic                                        83\n",
       "10-Speed Automatic with Overdrive                        79\n",
       "6 Speed Mt                                               66\n",
       "9-Speed Automatic with Auto-Shift                        61\n",
       "6-Speed Electronically Controlled Automatic with O       60\n",
       "8-Speed Manual                                           51\n",
       "7-Speed                                                  50\n",
       "Manual                                                   45\n",
       "6-Speed                                                  41\n",
       "2-Speed Automatic                                        35\n",
       "6 Speed At/Mt                                            34\n",
       "7-Speed DCT Automatic                                    29\n",
       "Single-Speed Fixed Gear                                  28\n",
       "CVT-F                                                    27\n",
       "8-SPEED AT                                               22\n",
       "8-SPEED A/T                                              15\n",
       "SCHEDULED FOR OR IN PRODUCTION                           15\n",
       "Name: count, dtype: int64"
      ]
     },
     "execution_count": 351,
     "metadata": {},
     "output_type": "execute_result"
    }
   ],
   "source": [
    "df.transmission.value_counts(dropna=False)"
   ]
  },
  {
   "cell_type": "code",
   "execution_count": 352,
   "metadata": {},
   "outputs": [],
   "source": [
    "df['transmission'] = df['transmission'].str.lower()"
   ]
  },
  {
   "cell_type": "markdown",
   "metadata": {},
   "source": [
    "### Extracting Transmission Type, Gear Count, Gear Control Type and Special Features"
   ]
  },
  {
   "cell_type": "code",
   "execution_count": 353,
   "metadata": {},
   "outputs": [],
   "source": [
    "pattern = r'(?:(\\d+|single)-speed)?\\s*(a/t|automatic|m/t|manual|cvt|dct|electronically controlled)?(?:.*?(auto-shift|overdrive|dual shift mode))?'\n",
    "pattern = r'(?:(\\d+|single)-speed)?\\s*(a/t|automatic|m/t|manual|cvt|dct|electronically controlled|at/mt)?(?:.*?(auto-shift|overdrive|dual shift mode))?'\n",
    "pattern = r'(?:(\\d+|single)[-\\s]speed)?\\s*(a[/]?t|automatic|m[/]?t|manual|cvt|dct|electronically controlled|at/mt)?(?:.*?(auto-shift|overdrive|dual shift mode))?'\n",
    "\n",
    "# Apply the regex pattern to extract the columns\n",
    "df[['gear_count', 'transmission_type', 'special_features']] = df['transmission'].str.extract(pattern)\n",
    "\n",
    "# Handle the gear_control_type based on the extracted transmission_type\n",
    "df['gear_control_type'] = df['transmission_type'].apply(lambda x: 'variable' if 'cvt' in str(x) else 'fixed')\n",
    "\n",
    "# Fill missing special_features with 'standard' as the default\n",
    "df['special_features'] = df['special_features'].fillna('standard')"
   ]
  },
  {
   "cell_type": "code",
   "execution_count": 354,
   "metadata": {},
   "outputs": [
    {
     "name": "stdout",
     "output_type": "stream",
     "text": [
      "Gear Count NaN Count:  140478\n",
      "Transmission Type NaN Count:  33006\n",
      "Special Features NaN Count:  0\n",
      "Gear Control Type NaN Count:  0\n"
     ]
    }
   ],
   "source": [
    "print(\"Gear Count NaN Count: \", df.gear_count.isna().sum())\n",
    "print(\"Transmission Type NaN Count: \", df.transmission_type.isna().sum())\n",
    "print(\"Special Features NaN Count: \", df.special_features.isna().sum())\n",
    "print(\"Gear Control Type NaN Count: \", df.gear_control_type.isna().sum())"
   ]
  },
  {
   "cell_type": "code",
   "execution_count": 355,
   "metadata": {},
   "outputs": [
    {
     "data": {
      "text/plain": [
       "transmission_type\n",
       "a/t                          198983\n",
       "automatic                     51526\n",
       "NaN                           33006\n",
       "m/t                           26466\n",
       "cvt                            3354\n",
       "manual                          677\n",
       "mt                               66\n",
       "electronically controlled        60\n",
       "at                               56\n",
       "dct                              29\n",
       "Name: count, dtype: int64"
      ]
     },
     "execution_count": 355,
     "metadata": {},
     "output_type": "execute_result"
    }
   ],
   "source": [
    "df.transmission_type.value_counts(dropna=False)"
   ]
  },
  {
   "cell_type": "code",
   "execution_count": 356,
   "metadata": {},
   "outputs": [
    {
     "data": {
      "text/plain": [
       "transmission_type\n",
       "automatic    254008\n",
       "NaN           33006\n",
       "manual        27209\n",
       "Name: count, dtype: int64"
      ]
     },
     "execution_count": 356,
     "metadata": {},
     "output_type": "execute_result"
    }
   ],
   "source": [
    "df['transmission_type'] = df['transmission_type'].replace({\n",
    "    'mt': 'manual',\n",
    "    'm/t': 'manual',\n",
    "    'at': 'automatic',\n",
    "    'a/t': 'automatic',\n",
    "    'dct': 'automatic',\n",
    "    'cvt': 'automatic',\n",
    "    'electronically controlled': 'automatic',\n",
    "})\n",
    "df.transmission_type.value_counts(dropna=False)"
   ]
  },
  {
   "cell_type": "code",
   "execution_count": 357,
   "metadata": {},
   "outputs": [
    {
     "data": {
      "text/plain": [
       "gear_count\n",
       "NaN       140478\n",
       "6          55373\n",
       "8          49545\n",
       "7          21714\n",
       "10         18694\n",
       "9          10389\n",
       "5           9796\n",
       "4           4295\n",
       "1           3760\n",
       "2            151\n",
       "single        28\n",
       "Name: count, dtype: int64"
      ]
     },
     "execution_count": 357,
     "metadata": {},
     "output_type": "execute_result"
    }
   ],
   "source": [
    "df.gear_count.value_counts(dropna=False)"
   ]
  },
  {
   "cell_type": "code",
   "execution_count": 358,
   "metadata": {},
   "outputs": [
    {
     "data": {
      "text/plain": [
       "gear_count\n",
       "NaN    140478\n",
       "6       55373\n",
       "8       49545\n",
       "7       21714\n",
       "10      18694\n",
       "9       10389\n",
       "5        9796\n",
       "4        4295\n",
       "1        3760\n",
       "2         151\n",
       "1          28\n",
       "Name: count, dtype: int64"
      ]
     },
     "execution_count": 358,
     "metadata": {},
     "output_type": "execute_result"
    }
   ],
   "source": [
    "df['gear_count'] = df['gear_count'].replace({\n",
    "    'single': 1\n",
    "})\n",
    "df.gear_count.value_counts(dropna=False)"
   ]
  },
  {
   "cell_type": "code",
   "execution_count": 359,
   "metadata": {},
   "outputs": [
    {
     "data": {
      "text/plain": [
       "special_features\n",
       "standard           278685\n",
       "dual shift mode     32079\n",
       "auto-shift           3100\n",
       "overdrive             359\n",
       "Name: count, dtype: int64"
      ]
     },
     "execution_count": 359,
     "metadata": {},
     "output_type": "execute_result"
    }
   ],
   "source": [
    "df.special_features.value_counts(dropna=False)"
   ]
  },
  {
   "cell_type": "code",
   "execution_count": 360,
   "metadata": {},
   "outputs": [
    {
     "data": {
      "text/plain": [
       "gear_control_type\n",
       "fixed       310869\n",
       "variable      3354\n",
       "Name: count, dtype: int64"
      ]
     },
     "execution_count": 360,
     "metadata": {},
     "output_type": "execute_result"
    }
   ],
   "source": [
    "df.gear_control_type.value_counts(dropna=False)"
   ]
  },
  {
   "cell_type": "markdown",
   "metadata": {},
   "source": [
    "## Missing Data"
   ]
  },
  {
   "cell_type": "code",
   "execution_count": 361,
   "metadata": {},
   "outputs": [
    {
     "data": {
      "image/png": "[encoded data removed]",
      "text/plain": [
       "<Figure size 1000x600 with 1 Axes>"
      ]
     },
     "metadata": {},
     "output_type": "display_data"
    }
   ],
   "source": [
    "missing_data = df.drop(columns=['price']).isnull().sum().sort_values(ascending=False)\n",
    "plt.figure(figsize=(10,6))\n",
    "sns.barplot(x=missing_data.index, y=missing_data.values)\n",
    "plt.xticks(rotation=90)\n",
    "plt.title('Missing Data Count by Column')\n",
    "plt.ylabel('Missing Count')\n",
    "plt.show()"
   ]
  },
  {
   "cell_type": "markdown",
   "metadata": {},
   "source": [
    "### Adding binary indicators for missing data"
   ]
  },
  {
   "cell_type": "code",
   "execution_count": 362,
   "metadata": {},
   "outputs": [],
   "source": [
    "df['gear_count_missing'] = df['gear_count'].isnull().astype(int)\n",
    "df['horsepower_missing'] = df['horsepower'].isnull().astype(int)\n",
    "df['fuel_type_missing'] = df['fuel_type'].isnull().astype(int)"
   ]
  },
  {
   "cell_type": "markdown",
   "metadata": {},
   "source": [
    "## Price"
   ]
  },
  {
   "cell_type": "code",
   "execution_count": 363,
   "metadata": {},
   "outputs": [
    {
     "data": {
      "image/png": "[encoded data removed]",
      "text/plain": [
       "<Figure size 800x600 with 1 Axes>"
      ]
     },
     "metadata": {},
     "output_type": "display_data"
    }
   ],
   "source": [
    "plt.figure(figsize=(8,6))\n",
    "sns.histplot(df_train['price'], bins=50, kde=True)\n",
    "plt.title('Price Distribution')\n",
    "plt.show()"
   ]
  },
  {
   "cell_type": "markdown",
   "metadata": {},
   "source": [
    "### Log-transforming the price"
   ]
  },
  {
   "cell_type": "code",
   "execution_count": 364,
   "metadata": {},
   "outputs": [
    {
     "data": {
      "image/png": "[encoded data removed]",
      "text/plain": [
       "<Figure size 800x600 with 1 Axes>"
      ]
     },
     "metadata": {},
     "output_type": "display_data"
    }
   ],
   "source": [
    "# If the distribution is highly skewed, you can try log-transforming the price\n",
    "df.loc[df['data_type'] == 'train', 'log_price'] = np.log1p(df.loc[df['data_type'] == 'train', 'price'])\n",
    "\n",
    "# Visualize the transformed price distribution\n",
    "plt.figure(figsize=(8,6))\n",
    "sns.histplot(df.loc[df['data_type'] == 'train', 'log_price'], bins=50, kde=True)\n",
    "plt.title('Log-Transformed Price Distribution')\n",
    "plt.show()"
   ]
  },
  {
   "cell_type": "markdown",
   "metadata": {},
   "source": [
    "## Milage"
   ]
  },
  {
   "cell_type": "code",
   "execution_count": 365,
   "metadata": {},
   "outputs": [
    {
     "data": {
      "image/png": "[encoded data removed]",
      "text/plain": [
       "<Figure size 800x600 with 1 Axes>"
      ]
     },
     "metadata": {},
     "output_type": "display_data"
    }
   ],
   "source": [
    "df['milage'] = pd.to_numeric(df['milage'], errors='coerce')\n",
    "\n",
    "# Plot the distribution of mileage\n",
    "plt.figure(figsize=(8,6))\n",
    "sns.histplot(df['milage'], bins=20, kde=True)\n",
    "plt.title('Mileage Distribution')\n",
    "plt.xlabel('Mileage')\n",
    "plt.ylabel('Frequency')\n",
    "plt.show()"
   ]
  },
  {
   "cell_type": "markdown",
   "metadata": {},
   "source": [
    "### Normalizing Milage Data"
   ]
  },
  {
   "cell_type": "code",
   "execution_count": 366,
   "metadata": {},
   "outputs": [
    {
     "data": {
      "image/png": "[encoded data removed]",
      "text/plain": [
       "<Figure size 800x600 with 1 Axes>"
      ]
     },
     "metadata": {},
     "output_type": "display_data"
    }
   ],
   "source": [
    "from sklearn.preprocessing import MinMaxScaler\n",
    "\n",
    "# Assume df is your DataFrame and 'milage' is the column you want to normalize\n",
    "scaler = MinMaxScaler()\n",
    "\n",
    "# Reshape the data if you are working with a single column\n",
    "df['milage_normalized'] = scaler.fit_transform(df[['milage']])\n",
    "\n",
    "# Plot the distribution of mileage_normalized\n",
    "plt.figure(figsize=(8,6))\n",
    "sns.histplot(df['milage_normalized'], bins=20, kde=True)\n",
    "plt.title('Mileage Normalized Distribution')\n",
    "plt.xlabel('Mileage Normalized')\n",
    "plt.ylabel('Frequency')\n",
    "plt.show()"
   ]
  },
  {
   "cell_type": "markdown",
   "metadata": {},
   "source": [
    "## Encode categorical variables"
   ]
  },
  {
   "cell_type": "code",
   "execution_count": 367,
   "metadata": {},
   "outputs": [
    {
     "name": "stdout",
     "output_type": "stream",
     "text": [
      "brand\n",
      "model\n",
      "fuel_type\n",
      "engine\n",
      "transmission\n",
      "ext_col\n",
      "int_col\n",
      "accident\n",
      "clean_title\n",
      "data_type\n",
      "engine_fuel_type\n",
      "gear_count\n",
      "transmission_type\n",
      "special_features\n",
      "gear_control_type\n"
     ]
    }
   ],
   "source": [
    "categorical_columns = df.select_dtypes(include=['object', 'category']).columns.tolist()\n",
    "for column in categorical_columns:\n",
    "    print(column)"
   ]
  },
  {
   "cell_type": "code",
   "execution_count": 368,
   "metadata": {},
   "outputs": [],
   "source": [
    "df.drop(columns=['engine', 'transmission'], inplace=True)"
   ]
  },
  {
   "cell_type": "code",
   "execution_count": 369,
   "metadata": {},
   "outputs": [
    {
     "data": {
      "text/plain": [
       "clean_title\n",
       "1    278565\n",
       "0     35658\n",
       "Name: count, dtype: int64"
      ]
     },
     "execution_count": 369,
     "metadata": {},
     "output_type": "execute_result"
    }
   ],
   "source": [
    "df['clean_title'] = df['clean_title'].map({'No': 0, 'Yes': 1}).astype(int)\n",
    "df.clean_title.value_counts()"
   ]
  },
  {
   "cell_type": "markdown",
   "metadata": {},
   "source": [
    "### Target encoding for categorical variables"
   ]
  },
  {
   "cell_type": "code",
   "execution_count": 370,
   "metadata": {},
   "outputs": [],
   "source": [
    "import category_encoders as ce\n",
    "\n",
    "# List of categorical columns\n",
    "categorical_columns = df.select_dtypes(include=['object', 'category']).columns.tolist()\n",
    "categorical_columns.remove('data_type')\n",
    "\n",
    "# Step 1: Apply target encoding only on the training data\n",
    "encoder = ce.TargetEncoder(cols=categorical_columns, smoothing=0.2)\n",
    "\n",
    "# Fit the encoder on the training data (where log_price is available)\n",
    "encoder.fit(df[df['data_type'] == 'train'][categorical_columns], df[df['data_type'] == 'train']['log_price'])\n",
    "\n",
    "# Step 2: Transform both training and test data using the fitted encoder\n",
    "df_encoded = encoder.transform(df[categorical_columns])\n",
    "\n",
    "# Add the target-encoded columns back into the main DataFrame with new column names\n",
    "for col in categorical_columns:\n",
    "    df[col + '_target_encoded'] = df_encoded[col]"
   ]
  },
  {
   "cell_type": "markdown",
   "metadata": {},
   "source": [
    "#### Handle Missing Encodings in Test Data"
   ]
  },
  {
   "cell_type": "code",
   "execution_count": 371,
   "metadata": {},
   "outputs": [],
   "source": [
    "# Calculate the global mean of log_price from the training data\n",
    "global_mean = df[df['data_type'] == 'train']['log_price'].mean()\n",
    "\n",
    "# Fill missing values in target-encoded columns with the global mean of log_price (for unseen categories in the test set)\n",
    "for col in categorical_columns:\n",
    "    df[col + '_target_encoded'].fillna(global_mean, inplace=True)"
   ]
  },
  {
   "cell_type": "markdown",
   "metadata": {},
   "source": [
    "## Training Models on Train Data"
   ]
  },
  {
   "cell_type": "markdown",
   "metadata": {},
   "source": [
    "#### Split the concatenated DataFrame back into train and test sets"
   ]
  },
  {
   "cell_type": "code",
   "execution_count": 372,
   "metadata": {},
   "outputs": [],
   "source": [
    "# Split the concatenated DataFrame back into train and test sets\n",
    "df_train_encoded = df[df['data_type'] == 'train'].drop(columns=['data_type'])\n",
    "df_test_encoded = df[df['data_type'] == 'test'].drop(columns=['data_type', 'log_price', 'price'])  # Test set has no price"
   ]
  },
  {
   "cell_type": "markdown",
   "metadata": {},
   "source": [
    "#### Stratified K-Fold Cross-Validation on Training Data"
   ]
  },
  {
   "cell_type": "code",
   "execution_count": 373,
   "metadata": {},
   "outputs": [
    {
     "name": "stdout",
     "output_type": "stream",
     "text": [
      "Training fold 1\n",
      "[LightGBM] [Info] Auto-choosing row-wise multi-threading, the overhead of testing was 0.008372 seconds.\n",
      "You can set `force_row_wise=true` to remove the overhead.\n",
      "And if memory is not enough, you can set `force_col_wise=true`.\n",
      "[LightGBM] [Info] Total Bins 1266\n",
      "[LightGBM] [Info] Number of data points in the train set: 150826, number of used features: 22\n",
      "[LightGBM] [Info] Start training from score 10.291930\n",
      "Fold 1 RMSE: 72685.1183199675\n",
      "Training fold 2\n",
      "[LightGBM] [Info] Auto-choosing row-wise multi-threading, the overhead of testing was 0.005529 seconds.\n",
      "You can set `force_row_wise=true` to remove the overhead.\n",
      "And if memory is not enough, you can set `force_col_wise=true`.\n",
      "[LightGBM] [Info] Total Bins 1265\n",
      "[LightGBM] [Info] Number of data points in the train set: 150826, number of used features: 22\n",
      "[LightGBM] [Info] Start training from score 10.291668\n",
      "Fold 2 RMSE: 71296.14393385565\n",
      "Training fold 3\n",
      "[LightGBM] [Info] Auto-choosing row-wise multi-threading, the overhead of testing was 0.004950 seconds.\n",
      "You can set `force_row_wise=true` to remove the overhead.\n",
      "And if memory is not enough, you can set `force_col_wise=true`.\n",
      "[LightGBM] [Info] Total Bins 1266\n",
      "[LightGBM] [Info] Number of data points in the train set: 150826, number of used features: 22\n",
      "[LightGBM] [Info] Start training from score 10.291683\n",
      "Fold 3 RMSE: 74934.70511398804\n",
      "Training fold 4\n",
      "[LightGBM] [Info] Auto-choosing row-wise multi-threading, the overhead of testing was 0.003954 seconds.\n",
      "You can set `force_row_wise=true` to remove the overhead.\n",
      "And if memory is not enough, you can set `force_col_wise=true`.\n",
      "[LightGBM] [Info] Total Bins 1265\n",
      "[LightGBM] [Info] Number of data points in the train set: 150827, number of used features: 22\n",
      "[LightGBM] [Info] Start training from score 10.291402\n",
      "Fold 4 RMSE: 79833.1027517097\n",
      "Training fold 5\n",
      "[LightGBM] [Info] Auto-choosing row-wise multi-threading, the overhead of testing was 0.005461 seconds.\n",
      "You can set `force_row_wise=true` to remove the overhead.\n",
      "And if memory is not enough, you can set `force_col_wise=true`.\n",
      "[LightGBM] [Info] Total Bins 1266\n",
      "[LightGBM] [Info] Number of data points in the train set: 150827, number of used features: 22\n",
      "[LightGBM] [Info] Start training from score 10.292255\n",
      "Fold 5 RMSE: 67745.3109629708\n"
     ]
    }
   ],
   "source": [
    "from sklearn.model_selection import StratifiedKFold\n",
    "import numpy as np\n",
    "from sklearn.metrics import mean_squared_error\n",
    "import lightgbm as lgb\n",
    "\n",
    "# Define the number of splits for K-Fold\n",
    "n_splits = 5\n",
    "\n",
    "# Bin the log_price for stratified K-Fold cross-validation\n",
    "df_train_encoded['log_price_bin'] = pd.qcut(df_train_encoded['log_price'], q=n_splits, labels=False)\n",
    "\n",
    "# Initialize Stratified K-Fold cross-validation\n",
    "skf = StratifiedKFold(n_splits=n_splits, shuffle=True, random_state=42)\n",
    "\n",
    "# Prepare the features and target\n",
    "X = df_train_encoded.drop(columns=categorical_columns + ['price', 'log_price', 'log_price_bin'])  # Features\n",
    "y = df_train_encoded['log_price']  # Log-transformed target\n",
    "\n",
    "# Loop through each fold in Stratified K-Fold\n",
    "for fold, (train_idx, val_idx) in enumerate(skf.split(X, df_train_encoded['log_price_bin'])):\n",
    "    print(f\"Training fold {fold+1}\")\n",
    "    \n",
    "    # Split the data into training and validation sets for this fold\n",
    "    X_train, X_val = X.iloc[train_idx], X.iloc[val_idx]\n",
    "    y_train, y_val = y.iloc[train_idx], y.iloc[val_idx]\n",
    "    \n",
    "    # Train the model on the current fold's training data\n",
    "    model = lgb.LGBMRegressor()\n",
    "    model.fit(X_train, y_train)\n",
    "    \n",
    "    # Predict on the validation set\n",
    "    y_val_pred = model.predict(X_val)\n",
    "    \n",
    "    # Reverse log transformation for the validation predictions and true values\n",
    "    y_val_true = np.expm1(y_val)\n",
    "    y_val_pred_original_scale = np.expm1(y_val_pred)\n",
    "    \n",
    "    # Calculate RMSE for this fold\n",
    "    rmse = np.sqrt(mean_squared_error(y_val_true, y_val_pred_original_scale))\n",
    "    print(f\"Fold {fold+1} RMSE: {rmse}\")"
   ]
  },
  {
   "cell_type": "markdown",
   "metadata": {},
   "source": [
    "#### Train Final Model on Full Training Data"
   ]
  },
  {
   "cell_type": "code",
   "execution_count": 374,
   "metadata": {},
   "outputs": [
    {
     "name": "stdout",
     "output_type": "stream",
     "text": [
      "[LightGBM] [Info] Auto-choosing row-wise multi-threading, the overhead of testing was 0.006241 seconds.\n",
      "You can set `force_row_wise=true` to remove the overhead.\n",
      "And if memory is not enough, you can set `force_col_wise=true`.\n",
      "[LightGBM] [Info] Total Bins 1266\n",
      "[LightGBM] [Info] Number of data points in the train set: 188533, number of used features: 22\n",
      "[LightGBM] [Info] Start training from score 10.291787\n"
     ]
    },
    {
     "data": {
      "text/html": [
       "<style>#sk-container-id-2 {color: black;background-color: white;}#sk-container-id-2 pre{padding: 0;}#sk-container-id-2 div.sk-toggleable {background-color: white;}#sk-container-id-2 label.sk-toggleable__label {cursor: pointer;display: block;width: 100%;margin-bottom: 0;padding: 0.3em;box-sizing: border-box;text-align: center;}#sk-container-id-2 label.sk-toggleable__label-arrow:before {content: \"▸\";float: left;margin-right: 0.25em;color: #696969;}#sk-container-id-2 label.sk-toggleable__label-arrow:hover:before {color: black;}#sk-container-id-2 div.sk-estimator:hover label.sk-toggleable__label-arrow:before {color: black;}#sk-container-id-2 div.sk-toggleable__content {max-height: 0;max-width: 0;overflow: hidden;text-align: left;background-color: #f0f8ff;}#sk-container-id-2 div.sk-toggleable__content pre {margin: 0.2em;color: black;border-radius: 0.25em;background-color: #f0f8ff;}#sk-container-id-2 input.sk-toggleable__control:checked~div.sk-toggleable__content {max-height: 200px;max-width: 100%;overflow: auto;}#sk-container-id-2 input.sk-toggleable__control:checked~label.sk-toggleable__label-arrow:before {content: \"▾\";}#sk-container-id-2 div.sk-estimator input.sk-toggleable__control:checked~label.sk-toggleable__label {background-color: #d4ebff;}#sk-container-id-2 div.sk-label input.sk-toggleable__control:checked~label.sk-toggleable__label {background-color: #d4ebff;}#sk-container-id-2 input.sk-hidden--visually {border: 0;clip: rect(1px 1px 1px 1px);clip: rect(1px, 1px, 1px, 1px);height: 1px;margin: -1px;overflow: hidden;padding: 0;position: absolute;width: 1px;}#sk-container-id-2 div.sk-estimator {font-family: monospace;background-color: #f0f8ff;border: 1px dotted black;border-radius: 0.25em;box-sizing: border-box;margin-bottom: 0.5em;}#sk-container-id-2 div.sk-estimator:hover {background-color: #d4ebff;}#sk-container-id-2 div.sk-parallel-item::after {content: \"\";width: 100%;border-bottom: 1px solid gray;flex-grow: 1;}#sk-container-id-2 div.sk-label:hover label.sk-toggleable__label {background-color: #d4ebff;}#sk-container-id-2 div.sk-serial::before {content: \"\";position: absolute;border-left: 1px solid gray;box-sizing: border-box;top: 0;bottom: 0;left: 50%;z-index: 0;}#sk-container-id-2 div.sk-serial {display: flex;flex-direction: column;align-items: center;background-color: white;padding-right: 0.2em;padding-left: 0.2em;position: relative;}#sk-container-id-2 div.sk-item {position: relative;z-index: 1;}#sk-container-id-2 div.sk-parallel {display: flex;align-items: stretch;justify-content: center;background-color: white;position: relative;}#sk-container-id-2 div.sk-item::before, #sk-container-id-2 div.sk-parallel-item::before {content: \"\";position: absolute;border-left: 1px solid gray;box-sizing: border-box;top: 0;bottom: 0;left: 50%;z-index: -1;}#sk-container-id-2 div.sk-parallel-item {display: flex;flex-direction: column;z-index: 1;position: relative;background-color: white;}#sk-container-id-2 div.sk-parallel-item:first-child::after {align-self: flex-end;width: 50%;}#sk-container-id-2 div.sk-parallel-item:last-child::after {align-self: flex-start;width: 50%;}#sk-container-id-2 div.sk-parallel-item:only-child::after {width: 0;}#sk-container-id-2 div.sk-dashed-wrapped {border: 1px dashed gray;margin: 0 0.4em 0.5em 0.4em;box-sizing: border-box;padding-bottom: 0.4em;background-color: white;}#sk-container-id-2 div.sk-label label {font-family: monospace;font-weight: bold;display: inline-block;line-height: 1.2em;}#sk-container-id-2 div.sk-label-container {text-align: center;}#sk-container-id-2 div.sk-container {/* jupyter's `normalize.less` sets `[hidden] { display: none; }` but bootstrap.min.css set `[hidden] { display: none !important; }` so we also need the `!important` here to be able to override the default hidden behavior on the sphinx rendered scikit-learn.org. See: https://github.com/scikit-learn/scikit-learn/issues/21755 */display: inline-block !important;position: relative;}#sk-container-id-2 div.sk-text-repr-fallback {display: none;}</style><div id=\"sk-container-id-2\" class=\"sk-top-container\"><div class=\"sk-text-repr-fallback\"><pre>LGBMRegressor()</pre><b>In a Jupyter environment, please rerun this cell to show the HTML representation or trust the notebook. <br />On GitHub, the HTML representation is unable to render, please try loading this page with nbviewer.org.</b></div><div class=\"sk-container\" hidden><div class=\"sk-item\"><div class=\"sk-estimator sk-toggleable\"><input class=\"sk-toggleable__control sk-hidden--visually\" id=\"sk-estimator-id-2\" type=\"checkbox\" checked><label for=\"sk-estimator-id-2\" class=\"sk-toggleable__label sk-toggleable__label-arrow\">LGBMRegressor</label><div class=\"sk-toggleable__content\"><pre>LGBMRegressor()</pre></div></div></div></div></div>"
      ],
      "text/plain": [
       "LGBMRegressor()"
      ]
     },
     "execution_count": 374,
     "metadata": {},
     "output_type": "execute_result"
    }
   ],
   "source": [
    "# Train on the full training data\n",
    "X_full = df_train_encoded.drop(columns=categorical_columns + ['price', 'log_price', 'log_price_bin'])  # Features\n",
    "y_full = df_train_encoded['log_price']\n",
    "\n",
    "# Train the final model\n",
    "model = lgb.LGBMRegressor()\n",
    "model.fit(X_full, y_full)"
   ]
  },
  {
   "cell_type": "markdown",
   "metadata": {},
   "source": [
    "## Predict and Submit"
   ]
  },
  {
   "cell_type": "code",
   "execution_count": 375,
   "metadata": {},
   "outputs": [
    {
     "name": "stdout",
     "output_type": "stream",
     "text": [
      "Submission file created successfully.\n"
     ]
    }
   ],
   "source": [
    "# Make sure the test set has the same features as the training set\n",
    "X_full = df_train_encoded.drop(columns=categorical_columns + ['price', 'log_price', 'log_price_bin'])  # These are the features you used for training\n",
    "\n",
    "# Get the same feature set from the test set\n",
    "df_test_features = df_test_encoded[X_full.columns]  # Select only the columns that were used for training\n",
    "\n",
    "# Make predictions on the test data using the same features\n",
    "predictions_log_scale = model.predict(df_test_features)\n",
    "\n",
    "# Reverse the log transformation to get the actual price predictions\n",
    "predictions_original_scale = np.expm1(predictions_log_scale)\n",
    "\n",
    "# Create the submission DataFrame with 'id' and 'price'\n",
    "df_submission = pd.DataFrame({\n",
    "    'id': df_test['id'],\n",
    "    'price': predictions_original_scale\n",
    "})\n",
    "\n",
    "# Step 4: Save the submission DataFrame to a CSV file\n",
    "df_submission.to_csv('submission.csv', index=False)\n",
    "\n",
    "print(\"Submission file created successfully.\")"
   ]
  },
  {
   "cell_type": "code",
   "execution_count": null,
   "metadata": {},
   "outputs": [],
   "source": []
  }
 ],
 "metadata": {
  "kernelspec": {
   "display_name": "base",
   "language": "python",
   "name": "python3"
  },
  "language_info": {
   "codemirror_mode": {
    "name": "ipython",
    "version": 3
   },
   "file_extension": ".py",
   "mimetype": "text/x-python",
   "name": "python",
   "nbconvert_exporter": "python",
   "pygments_lexer": "ipython3",
   "version": "3.11.7"
  }
 },
 "nbformat": 4,
 "nbformat_minor": 2
}
